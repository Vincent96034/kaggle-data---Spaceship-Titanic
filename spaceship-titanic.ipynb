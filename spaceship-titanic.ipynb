{
 "cells": [
  {
   "cell_type": "code",
   "execution_count": 243,
   "metadata": {},
   "outputs": [],
   "source": [
    "import pandas as pd\n",
    "import numpy as np\n",
    "import matplotlib.pyplot as plt\n",
    "import seaborn as sns"
   ]
  },
  {
   "cell_type": "code",
   "execution_count": 244,
   "metadata": {},
   "outputs": [],
   "source": [
    "train_data = pd.read_csv(\"./data/train.csv\")\n",
    "test_data = pd.read_csv(\"./data/test.csv\")"
   ]
  },
  {
   "cell_type": "markdown",
   "metadata": {},
   "source": [
    "# Data Analysis"
   ]
  },
  {
   "cell_type": "markdown",
   "metadata": {},
   "source": [
    "## Describe"
   ]
  },
  {
   "cell_type": "code",
   "execution_count": 245,
   "metadata": {},
   "outputs": [
    {
     "data": {
      "text/html": [
       "<div>\n",
       "<style scoped>\n",
       "    .dataframe tbody tr th:only-of-type {\n",
       "        vertical-align: middle;\n",
       "    }\n",
       "\n",
       "    .dataframe tbody tr th {\n",
       "        vertical-align: top;\n",
       "    }\n",
       "\n",
       "    .dataframe thead th {\n",
       "        text-align: right;\n",
       "    }\n",
       "</style>\n",
       "<table border=\"1\" class=\"dataframe\">\n",
       "  <thead>\n",
       "    <tr style=\"text-align: right;\">\n",
       "      <th></th>\n",
       "      <th>PassengerId</th>\n",
       "      <th>HomePlanet</th>\n",
       "      <th>CryoSleep</th>\n",
       "      <th>Cabin</th>\n",
       "      <th>Destination</th>\n",
       "      <th>Age</th>\n",
       "      <th>VIP</th>\n",
       "      <th>RoomService</th>\n",
       "      <th>FoodCourt</th>\n",
       "      <th>ShoppingMall</th>\n",
       "      <th>Spa</th>\n",
       "      <th>VRDeck</th>\n",
       "      <th>Name</th>\n",
       "      <th>Transported</th>\n",
       "    </tr>\n",
       "  </thead>\n",
       "  <tbody>\n",
       "    <tr>\n",
       "      <th>count</th>\n",
       "      <td>8693</td>\n",
       "      <td>8492</td>\n",
       "      <td>8476</td>\n",
       "      <td>8494</td>\n",
       "      <td>8511</td>\n",
       "      <td>8514.000000</td>\n",
       "      <td>8490</td>\n",
       "      <td>8512.000000</td>\n",
       "      <td>8510.000000</td>\n",
       "      <td>8485.000000</td>\n",
       "      <td>8510.000000</td>\n",
       "      <td>8505.000000</td>\n",
       "      <td>8493</td>\n",
       "      <td>8693</td>\n",
       "    </tr>\n",
       "    <tr>\n",
       "      <th>unique</th>\n",
       "      <td>8693</td>\n",
       "      <td>3</td>\n",
       "      <td>2</td>\n",
       "      <td>6560</td>\n",
       "      <td>3</td>\n",
       "      <td>NaN</td>\n",
       "      <td>2</td>\n",
       "      <td>NaN</td>\n",
       "      <td>NaN</td>\n",
       "      <td>NaN</td>\n",
       "      <td>NaN</td>\n",
       "      <td>NaN</td>\n",
       "      <td>8473</td>\n",
       "      <td>2</td>\n",
       "    </tr>\n",
       "    <tr>\n",
       "      <th>top</th>\n",
       "      <td>0001_01</td>\n",
       "      <td>Earth</td>\n",
       "      <td>False</td>\n",
       "      <td>G/734/S</td>\n",
       "      <td>TRAPPIST-1e</td>\n",
       "      <td>NaN</td>\n",
       "      <td>False</td>\n",
       "      <td>NaN</td>\n",
       "      <td>NaN</td>\n",
       "      <td>NaN</td>\n",
       "      <td>NaN</td>\n",
       "      <td>NaN</td>\n",
       "      <td>Gollux Reedall</td>\n",
       "      <td>True</td>\n",
       "    </tr>\n",
       "    <tr>\n",
       "      <th>freq</th>\n",
       "      <td>1</td>\n",
       "      <td>4602</td>\n",
       "      <td>5439</td>\n",
       "      <td>8</td>\n",
       "      <td>5915</td>\n",
       "      <td>NaN</td>\n",
       "      <td>8291</td>\n",
       "      <td>NaN</td>\n",
       "      <td>NaN</td>\n",
       "      <td>NaN</td>\n",
       "      <td>NaN</td>\n",
       "      <td>NaN</td>\n",
       "      <td>2</td>\n",
       "      <td>4378</td>\n",
       "    </tr>\n",
       "    <tr>\n",
       "      <th>mean</th>\n",
       "      <td>NaN</td>\n",
       "      <td>NaN</td>\n",
       "      <td>NaN</td>\n",
       "      <td>NaN</td>\n",
       "      <td>NaN</td>\n",
       "      <td>28.827930</td>\n",
       "      <td>NaN</td>\n",
       "      <td>224.687617</td>\n",
       "      <td>458.077203</td>\n",
       "      <td>173.729169</td>\n",
       "      <td>311.138778</td>\n",
       "      <td>304.854791</td>\n",
       "      <td>NaN</td>\n",
       "      <td>NaN</td>\n",
       "    </tr>\n",
       "    <tr>\n",
       "      <th>std</th>\n",
       "      <td>NaN</td>\n",
       "      <td>NaN</td>\n",
       "      <td>NaN</td>\n",
       "      <td>NaN</td>\n",
       "      <td>NaN</td>\n",
       "      <td>14.489021</td>\n",
       "      <td>NaN</td>\n",
       "      <td>666.717663</td>\n",
       "      <td>1611.489240</td>\n",
       "      <td>604.696458</td>\n",
       "      <td>1136.705535</td>\n",
       "      <td>1145.717189</td>\n",
       "      <td>NaN</td>\n",
       "      <td>NaN</td>\n",
       "    </tr>\n",
       "    <tr>\n",
       "      <th>min</th>\n",
       "      <td>NaN</td>\n",
       "      <td>NaN</td>\n",
       "      <td>NaN</td>\n",
       "      <td>NaN</td>\n",
       "      <td>NaN</td>\n",
       "      <td>0.000000</td>\n",
       "      <td>NaN</td>\n",
       "      <td>0.000000</td>\n",
       "      <td>0.000000</td>\n",
       "      <td>0.000000</td>\n",
       "      <td>0.000000</td>\n",
       "      <td>0.000000</td>\n",
       "      <td>NaN</td>\n",
       "      <td>NaN</td>\n",
       "    </tr>\n",
       "    <tr>\n",
       "      <th>25%</th>\n",
       "      <td>NaN</td>\n",
       "      <td>NaN</td>\n",
       "      <td>NaN</td>\n",
       "      <td>NaN</td>\n",
       "      <td>NaN</td>\n",
       "      <td>19.000000</td>\n",
       "      <td>NaN</td>\n",
       "      <td>0.000000</td>\n",
       "      <td>0.000000</td>\n",
       "      <td>0.000000</td>\n",
       "      <td>0.000000</td>\n",
       "      <td>0.000000</td>\n",
       "      <td>NaN</td>\n",
       "      <td>NaN</td>\n",
       "    </tr>\n",
       "    <tr>\n",
       "      <th>50%</th>\n",
       "      <td>NaN</td>\n",
       "      <td>NaN</td>\n",
       "      <td>NaN</td>\n",
       "      <td>NaN</td>\n",
       "      <td>NaN</td>\n",
       "      <td>27.000000</td>\n",
       "      <td>NaN</td>\n",
       "      <td>0.000000</td>\n",
       "      <td>0.000000</td>\n",
       "      <td>0.000000</td>\n",
       "      <td>0.000000</td>\n",
       "      <td>0.000000</td>\n",
       "      <td>NaN</td>\n",
       "      <td>NaN</td>\n",
       "    </tr>\n",
       "    <tr>\n",
       "      <th>75%</th>\n",
       "      <td>NaN</td>\n",
       "      <td>NaN</td>\n",
       "      <td>NaN</td>\n",
       "      <td>NaN</td>\n",
       "      <td>NaN</td>\n",
       "      <td>38.000000</td>\n",
       "      <td>NaN</td>\n",
       "      <td>47.000000</td>\n",
       "      <td>76.000000</td>\n",
       "      <td>27.000000</td>\n",
       "      <td>59.000000</td>\n",
       "      <td>46.000000</td>\n",
       "      <td>NaN</td>\n",
       "      <td>NaN</td>\n",
       "    </tr>\n",
       "    <tr>\n",
       "      <th>max</th>\n",
       "      <td>NaN</td>\n",
       "      <td>NaN</td>\n",
       "      <td>NaN</td>\n",
       "      <td>NaN</td>\n",
       "      <td>NaN</td>\n",
       "      <td>79.000000</td>\n",
       "      <td>NaN</td>\n",
       "      <td>14327.000000</td>\n",
       "      <td>29813.000000</td>\n",
       "      <td>23492.000000</td>\n",
       "      <td>22408.000000</td>\n",
       "      <td>24133.000000</td>\n",
       "      <td>NaN</td>\n",
       "      <td>NaN</td>\n",
       "    </tr>\n",
       "  </tbody>\n",
       "</table>\n",
       "</div>"
      ],
      "text/plain": [
       "       PassengerId HomePlanet CryoSleep    Cabin  Destination          Age  \\\n",
       "count         8693       8492      8476     8494         8511  8514.000000   \n",
       "unique        8693          3         2     6560            3          NaN   \n",
       "top        0001_01      Earth     False  G/734/S  TRAPPIST-1e          NaN   \n",
       "freq             1       4602      5439        8         5915          NaN   \n",
       "mean           NaN        NaN       NaN      NaN          NaN    28.827930   \n",
       "std            NaN        NaN       NaN      NaN          NaN    14.489021   \n",
       "min            NaN        NaN       NaN      NaN          NaN     0.000000   \n",
       "25%            NaN        NaN       NaN      NaN          NaN    19.000000   \n",
       "50%            NaN        NaN       NaN      NaN          NaN    27.000000   \n",
       "75%            NaN        NaN       NaN      NaN          NaN    38.000000   \n",
       "max            NaN        NaN       NaN      NaN          NaN    79.000000   \n",
       "\n",
       "          VIP   RoomService     FoodCourt  ShoppingMall           Spa  \\\n",
       "count    8490   8512.000000   8510.000000   8485.000000   8510.000000   \n",
       "unique      2           NaN           NaN           NaN           NaN   \n",
       "top     False           NaN           NaN           NaN           NaN   \n",
       "freq     8291           NaN           NaN           NaN           NaN   \n",
       "mean      NaN    224.687617    458.077203    173.729169    311.138778   \n",
       "std       NaN    666.717663   1611.489240    604.696458   1136.705535   \n",
       "min       NaN      0.000000      0.000000      0.000000      0.000000   \n",
       "25%       NaN      0.000000      0.000000      0.000000      0.000000   \n",
       "50%       NaN      0.000000      0.000000      0.000000      0.000000   \n",
       "75%       NaN     47.000000     76.000000     27.000000     59.000000   \n",
       "max       NaN  14327.000000  29813.000000  23492.000000  22408.000000   \n",
       "\n",
       "              VRDeck            Name Transported  \n",
       "count    8505.000000            8493        8693  \n",
       "unique           NaN            8473           2  \n",
       "top              NaN  Gollux Reedall        True  \n",
       "freq             NaN               2        4378  \n",
       "mean      304.854791             NaN         NaN  \n",
       "std      1145.717189             NaN         NaN  \n",
       "min         0.000000             NaN         NaN  \n",
       "25%         0.000000             NaN         NaN  \n",
       "50%         0.000000             NaN         NaN  \n",
       "75%        46.000000             NaN         NaN  \n",
       "max     24133.000000             NaN         NaN  "
      ]
     },
     "execution_count": 245,
     "metadata": {},
     "output_type": "execute_result"
    }
   ],
   "source": [
    "train_data.describe(include = \"all\")"
   ]
  },
  {
   "cell_type": "markdown",
   "metadata": {},
   "source": [
    "- Most of the people come from Earth and are headed to the planet \"TRAPPIST-1e\"\n",
    "- Most people are not in Cryo Sleep\n",
    "- Cabin G/734/S is the largest cabin with 8 people living there\n",
    "- Mean age on the ship is almost 29 years\n",
    "- Most of the people are not VIPs\n",
    "- The luxury amenities seem to be very luxurious: the median is at 0 for every amenity. Here may be a correlation with VIP status.\n",
    "- There are 2 persons with the same name\n",
    "- The target variable \"Transported\" seems to be distributed equally between the two classes"
   ]
  },
  {
   "cell_type": "markdown",
   "metadata": {},
   "source": [
    "## Dtypes"
   ]
  },
  {
   "cell_type": "code",
   "execution_count": 246,
   "metadata": {},
   "outputs": [
    {
     "name": "stdout",
     "output_type": "stream",
     "text": [
      "PassengerId      object\n",
      "HomePlanet       object\n",
      "CryoSleep        object\n",
      "Cabin            object\n",
      "Destination      object\n",
      "Age             float64\n",
      "VIP              object\n",
      "RoomService     float64\n",
      "FoodCourt       float64\n",
      "ShoppingMall    float64\n",
      "Spa             float64\n",
      "VRDeck          float64\n",
      "Name             object\n",
      "Transported        bool\n",
      "dtype: object\n"
     ]
    }
   ],
   "source": [
    "print(train_data.dtypes)"
   ]
  },
  {
   "cell_type": "markdown",
   "metadata": {},
   "source": [
    "- PassengerId & Cabin more info can be extracted by splitting the variables\n",
    "- The boolean values (CryoSleep, VIP, Transported) should be transformed to $int$ $\\in \\{0,1\\}$\n",
    "- The categorial variables (HomePlanet, Cabin, Destination) should later be ont-hot-encoded for our models to work\n",
    "- Name should also be splitted into First & Last name"
   ]
  },
  {
   "cell_type": "code",
   "execution_count": 247,
   "metadata": {},
   "outputs": [
    {
     "data": {
      "text/html": [
       "<div>\n",
       "<style scoped>\n",
       "    .dataframe tbody tr th:only-of-type {\n",
       "        vertical-align: middle;\n",
       "    }\n",
       "\n",
       "    .dataframe tbody tr th {\n",
       "        vertical-align: top;\n",
       "    }\n",
       "\n",
       "    .dataframe thead th {\n",
       "        text-align: right;\n",
       "    }\n",
       "</style>\n",
       "<table border=\"1\" class=\"dataframe\">\n",
       "  <thead>\n",
       "    <tr style=\"text-align: right;\">\n",
       "      <th></th>\n",
       "      <th>PassengerId</th>\n",
       "      <th>HomePlanet</th>\n",
       "      <th>CryoSleep</th>\n",
       "      <th>Cabin</th>\n",
       "      <th>Destination</th>\n",
       "      <th>Age</th>\n",
       "      <th>VIP</th>\n",
       "      <th>RoomService</th>\n",
       "      <th>FoodCourt</th>\n",
       "      <th>ShoppingMall</th>\n",
       "      <th>Spa</th>\n",
       "      <th>VRDeck</th>\n",
       "      <th>Name</th>\n",
       "      <th>Transported</th>\n",
       "    </tr>\n",
       "  </thead>\n",
       "  <tbody>\n",
       "    <tr>\n",
       "      <th>0</th>\n",
       "      <td>0001_01</td>\n",
       "      <td>Europa</td>\n",
       "      <td>False</td>\n",
       "      <td>B/0/P</td>\n",
       "      <td>TRAPPIST-1e</td>\n",
       "      <td>39.0</td>\n",
       "      <td>False</td>\n",
       "      <td>0.0</td>\n",
       "      <td>0.0</td>\n",
       "      <td>0.0</td>\n",
       "      <td>0.0</td>\n",
       "      <td>0.0</td>\n",
       "      <td>Maham Ofracculy</td>\n",
       "      <td>False</td>\n",
       "    </tr>\n",
       "    <tr>\n",
       "      <th>1</th>\n",
       "      <td>0002_01</td>\n",
       "      <td>Earth</td>\n",
       "      <td>False</td>\n",
       "      <td>F/0/S</td>\n",
       "      <td>TRAPPIST-1e</td>\n",
       "      <td>24.0</td>\n",
       "      <td>False</td>\n",
       "      <td>109.0</td>\n",
       "      <td>9.0</td>\n",
       "      <td>25.0</td>\n",
       "      <td>549.0</td>\n",
       "      <td>44.0</td>\n",
       "      <td>Juanna Vines</td>\n",
       "      <td>True</td>\n",
       "    </tr>\n",
       "    <tr>\n",
       "      <th>2</th>\n",
       "      <td>0003_01</td>\n",
       "      <td>Europa</td>\n",
       "      <td>False</td>\n",
       "      <td>A/0/S</td>\n",
       "      <td>TRAPPIST-1e</td>\n",
       "      <td>58.0</td>\n",
       "      <td>True</td>\n",
       "      <td>43.0</td>\n",
       "      <td>3576.0</td>\n",
       "      <td>0.0</td>\n",
       "      <td>6715.0</td>\n",
       "      <td>49.0</td>\n",
       "      <td>Altark Susent</td>\n",
       "      <td>False</td>\n",
       "    </tr>\n",
       "    <tr>\n",
       "      <th>3</th>\n",
       "      <td>0003_02</td>\n",
       "      <td>Europa</td>\n",
       "      <td>False</td>\n",
       "      <td>A/0/S</td>\n",
       "      <td>TRAPPIST-1e</td>\n",
       "      <td>33.0</td>\n",
       "      <td>False</td>\n",
       "      <td>0.0</td>\n",
       "      <td>1283.0</td>\n",
       "      <td>371.0</td>\n",
       "      <td>3329.0</td>\n",
       "      <td>193.0</td>\n",
       "      <td>Solam Susent</td>\n",
       "      <td>False</td>\n",
       "    </tr>\n",
       "    <tr>\n",
       "      <th>4</th>\n",
       "      <td>0004_01</td>\n",
       "      <td>Earth</td>\n",
       "      <td>False</td>\n",
       "      <td>F/1/S</td>\n",
       "      <td>TRAPPIST-1e</td>\n",
       "      <td>16.0</td>\n",
       "      <td>False</td>\n",
       "      <td>303.0</td>\n",
       "      <td>70.0</td>\n",
       "      <td>151.0</td>\n",
       "      <td>565.0</td>\n",
       "      <td>2.0</td>\n",
       "      <td>Willy Santantines</td>\n",
       "      <td>True</td>\n",
       "    </tr>\n",
       "  </tbody>\n",
       "</table>\n",
       "</div>"
      ],
      "text/plain": [
       "  PassengerId HomePlanet CryoSleep  Cabin  Destination   Age    VIP  \\\n",
       "0     0001_01     Europa     False  B/0/P  TRAPPIST-1e  39.0  False   \n",
       "1     0002_01      Earth     False  F/0/S  TRAPPIST-1e  24.0  False   \n",
       "2     0003_01     Europa     False  A/0/S  TRAPPIST-1e  58.0   True   \n",
       "3     0003_02     Europa     False  A/0/S  TRAPPIST-1e  33.0  False   \n",
       "4     0004_01      Earth     False  F/1/S  TRAPPIST-1e  16.0  False   \n",
       "\n",
       "   RoomService  FoodCourt  ShoppingMall     Spa  VRDeck               Name  \\\n",
       "0          0.0        0.0           0.0     0.0     0.0    Maham Ofracculy   \n",
       "1        109.0        9.0          25.0   549.0    44.0       Juanna Vines   \n",
       "2         43.0     3576.0           0.0  6715.0    49.0      Altark Susent   \n",
       "3          0.0     1283.0         371.0  3329.0   193.0       Solam Susent   \n",
       "4        303.0       70.0         151.0   565.0     2.0  Willy Santantines   \n",
       "\n",
       "   Transported  \n",
       "0        False  \n",
       "1         True  \n",
       "2        False  \n",
       "3        False  \n",
       "4         True  "
      ]
     },
     "execution_count": 247,
     "metadata": {},
     "output_type": "execute_result"
    }
   ],
   "source": [
    "train_data.head()"
   ]
  },
  {
   "cell_type": "code",
   "execution_count": 248,
   "metadata": {},
   "outputs": [],
   "source": [
    "# Split PassengerId\n",
    "train_data[[\"PassengerGroup\",\"PassengerGroup_Number\"]] = train_data[\"PassengerId\"].str.split('_', 1, expand=True)\n",
    "train_data.drop('PassengerId',axis = 1, inplace=True)\n",
    "\n",
    "# Split Cabin\n",
    "train_data[[\"Deck\",\"Num\",\"Side\"]] = train_data[\"Cabin\"].str.split('/', 2, expand=True)\n",
    "train_data.drop('Cabin',axis = 1, inplace=True)\n",
    "\n",
    "# Split Name\n",
    "train_data[[\"FirstName\",\"LastName\"]] = train_data[\"Name\"].str.split(' ', 1, expand=True)\n",
    "train_data.drop('Name',axis = 1, inplace=True)\n",
    "\n",
    "\n",
    "### Same for the test set\n",
    "test_data[[\"PassengerGroup\",\"PassengerGroup_Number\"]] = test_data[\"PassengerId\"].str.split('_', 1, expand=True)\n",
    "test_data.drop('PassengerId',axis = 1, inplace=True)\n",
    "test_data[[\"Deck\",\"Num\",\"Side\"]] = test_data[\"Cabin\"].str.split('/', 2, expand=True)\n",
    "test_data.drop('Cabin',axis = 1, inplace=True)\n",
    "test_data[[\"FirstName\",\"LastName\"]] = test_data[\"Name\"].str.split(' ', 1, expand=True)\n",
    "test_data.drop('Name',axis = 1, inplace=True)"
   ]
  },
  {
   "cell_type": "markdown",
   "metadata": {},
   "source": [
    "## Missing values"
   ]
  },
  {
   "cell_type": "code",
   "execution_count": 249,
   "metadata": {},
   "outputs": [
    {
     "data": {
      "text/plain": [
       "HomePlanet               201\n",
       "CryoSleep                217\n",
       "Destination              182\n",
       "Age                      179\n",
       "VIP                      203\n",
       "RoomService              181\n",
       "FoodCourt                183\n",
       "ShoppingMall             208\n",
       "Spa                      183\n",
       "VRDeck                   188\n",
       "Transported                0\n",
       "PassengerGroup             0\n",
       "PassengerGroup_Number      0\n",
       "Deck                     199\n",
       "Num                      199\n",
       "Side                     199\n",
       "FirstName                200\n",
       "LastName                 200\n",
       "dtype: int64"
      ]
     },
     "execution_count": 249,
     "metadata": {},
     "output_type": "execute_result"
    }
   ],
   "source": [
    "train_data.isna().sum()"
   ]
  },
  {
   "cell_type": "code",
   "execution_count": 250,
   "metadata": {},
   "outputs": [
    {
     "data": {
      "text/plain": [
       "0.02496261359714713"
      ]
     },
     "execution_count": 250,
     "metadata": {},
     "output_type": "execute_result"
    }
   ],
   "source": [
    "train_data.isna().sum().max() / len(train_data)"
   ]
  },
  {
   "cell_type": "markdown",
   "metadata": {},
   "source": [
    "At most, in one column there are 2.5% of missing rows. Thats ok."
   ]
  },
  {
   "cell_type": "code",
   "execution_count": 251,
   "metadata": {},
   "outputs": [
    {
     "data": {
      "text/plain": [
       "<AxesSubplot:>"
      ]
     },
     "execution_count": 251,
     "metadata": {},
     "output_type": "execute_result"
    },
    {
     "data": {
      "image/png": "[encoded data removed]",
      "text/plain": [
       "<Figure size 720x360 with 2 Axes>"
      ]
     },
     "metadata": {
      "needs_background": "light"
     },
     "output_type": "display_data"
    }
   ],
   "source": [
    "import missingno as msno\n",
    "\n",
    "# Visualize missing values as a matrix\n",
    "msno.matrix(train_data, figsize=(10,5))"
   ]
  },
  {
   "cell_type": "markdown",
   "metadata": {},
   "source": [
    "There seems to be no pattern of missing values. In the following missing values are imputed by mean & most frequent occurance."
   ]
  },
  {
   "cell_type": "code",
   "execution_count": 252,
   "metadata": {},
   "outputs": [
    {
     "data": {
      "text/html": [
       "<div>\n",
       "<style scoped>\n",
       "    .dataframe tbody tr th:only-of-type {\n",
       "        vertical-align: middle;\n",
       "    }\n",
       "\n",
       "    .dataframe tbody tr th {\n",
       "        vertical-align: top;\n",
       "    }\n",
       "\n",
       "    .dataframe thead th {\n",
       "        text-align: right;\n",
       "    }\n",
       "</style>\n",
       "<table border=\"1\" class=\"dataframe\">\n",
       "  <thead>\n",
       "    <tr style=\"text-align: right;\">\n",
       "      <th></th>\n",
       "      <th>HomePlanet</th>\n",
       "      <th>CryoSleep</th>\n",
       "      <th>Destination</th>\n",
       "      <th>Age</th>\n",
       "      <th>VIP</th>\n",
       "      <th>RoomService</th>\n",
       "      <th>FoodCourt</th>\n",
       "      <th>ShoppingMall</th>\n",
       "      <th>Spa</th>\n",
       "      <th>VRDeck</th>\n",
       "      <th>Transported</th>\n",
       "      <th>PassengerGroup</th>\n",
       "      <th>PassengerGroup_Number</th>\n",
       "      <th>Deck</th>\n",
       "      <th>Num</th>\n",
       "      <th>Side</th>\n",
       "      <th>FirstName</th>\n",
       "      <th>LastName</th>\n",
       "    </tr>\n",
       "  </thead>\n",
       "  <tbody>\n",
       "    <tr>\n",
       "      <th>0</th>\n",
       "      <td>Europa</td>\n",
       "      <td>False</td>\n",
       "      <td>TRAPPIST-1e</td>\n",
       "      <td>39.0</td>\n",
       "      <td>False</td>\n",
       "      <td>0.0</td>\n",
       "      <td>0.0</td>\n",
       "      <td>0.0</td>\n",
       "      <td>0.0</td>\n",
       "      <td>0.0</td>\n",
       "      <td>False</td>\n",
       "      <td>0001</td>\n",
       "      <td>01</td>\n",
       "      <td>B</td>\n",
       "      <td>0</td>\n",
       "      <td>P</td>\n",
       "      <td>Maham</td>\n",
       "      <td>Ofracculy</td>\n",
       "    </tr>\n",
       "    <tr>\n",
       "      <th>1</th>\n",
       "      <td>Earth</td>\n",
       "      <td>False</td>\n",
       "      <td>TRAPPIST-1e</td>\n",
       "      <td>24.0</td>\n",
       "      <td>False</td>\n",
       "      <td>109.0</td>\n",
       "      <td>9.0</td>\n",
       "      <td>25.0</td>\n",
       "      <td>549.0</td>\n",
       "      <td>44.0</td>\n",
       "      <td>True</td>\n",
       "      <td>0002</td>\n",
       "      <td>01</td>\n",
       "      <td>F</td>\n",
       "      <td>0</td>\n",
       "      <td>S</td>\n",
       "      <td>Juanna</td>\n",
       "      <td>Vines</td>\n",
       "    </tr>\n",
       "    <tr>\n",
       "      <th>2</th>\n",
       "      <td>Europa</td>\n",
       "      <td>False</td>\n",
       "      <td>TRAPPIST-1e</td>\n",
       "      <td>58.0</td>\n",
       "      <td>True</td>\n",
       "      <td>43.0</td>\n",
       "      <td>3576.0</td>\n",
       "      <td>0.0</td>\n",
       "      <td>6715.0</td>\n",
       "      <td>49.0</td>\n",
       "      <td>False</td>\n",
       "      <td>0003</td>\n",
       "      <td>01</td>\n",
       "      <td>A</td>\n",
       "      <td>0</td>\n",
       "      <td>S</td>\n",
       "      <td>Altark</td>\n",
       "      <td>Susent</td>\n",
       "    </tr>\n",
       "    <tr>\n",
       "      <th>3</th>\n",
       "      <td>Europa</td>\n",
       "      <td>False</td>\n",
       "      <td>TRAPPIST-1e</td>\n",
       "      <td>33.0</td>\n",
       "      <td>False</td>\n",
       "      <td>0.0</td>\n",
       "      <td>1283.0</td>\n",
       "      <td>371.0</td>\n",
       "      <td>3329.0</td>\n",
       "      <td>193.0</td>\n",
       "      <td>False</td>\n",
       "      <td>0003</td>\n",
       "      <td>02</td>\n",
       "      <td>A</td>\n",
       "      <td>0</td>\n",
       "      <td>S</td>\n",
       "      <td>Solam</td>\n",
       "      <td>Susent</td>\n",
       "    </tr>\n",
       "    <tr>\n",
       "      <th>4</th>\n",
       "      <td>Earth</td>\n",
       "      <td>False</td>\n",
       "      <td>TRAPPIST-1e</td>\n",
       "      <td>16.0</td>\n",
       "      <td>False</td>\n",
       "      <td>303.0</td>\n",
       "      <td>70.0</td>\n",
       "      <td>151.0</td>\n",
       "      <td>565.0</td>\n",
       "      <td>2.0</td>\n",
       "      <td>True</td>\n",
       "      <td>0004</td>\n",
       "      <td>01</td>\n",
       "      <td>F</td>\n",
       "      <td>1</td>\n",
       "      <td>S</td>\n",
       "      <td>Willy</td>\n",
       "      <td>Santantines</td>\n",
       "    </tr>\n",
       "  </tbody>\n",
       "</table>\n",
       "</div>"
      ],
      "text/plain": [
       "  HomePlanet CryoSleep  Destination   Age    VIP  RoomService  FoodCourt  \\\n",
       "0     Europa     False  TRAPPIST-1e  39.0  False          0.0        0.0   \n",
       "1      Earth     False  TRAPPIST-1e  24.0  False        109.0        9.0   \n",
       "2     Europa     False  TRAPPIST-1e  58.0   True         43.0     3576.0   \n",
       "3     Europa     False  TRAPPIST-1e  33.0  False          0.0     1283.0   \n",
       "4      Earth     False  TRAPPIST-1e  16.0  False        303.0       70.0   \n",
       "\n",
       "   ShoppingMall     Spa  VRDeck  Transported PassengerGroup  \\\n",
       "0           0.0     0.0     0.0        False           0001   \n",
       "1          25.0   549.0    44.0         True           0002   \n",
       "2           0.0  6715.0    49.0        False           0003   \n",
       "3         371.0  3329.0   193.0        False           0003   \n",
       "4         151.0   565.0     2.0         True           0004   \n",
       "\n",
       "  PassengerGroup_Number Deck Num Side FirstName     LastName  \n",
       "0                    01    B   0    P     Maham    Ofracculy  \n",
       "1                    01    F   0    S    Juanna        Vines  \n",
       "2                    01    A   0    S    Altark       Susent  \n",
       "3                    02    A   0    S     Solam       Susent  \n",
       "4                    01    F   1    S     Willy  Santantines  "
      ]
     },
     "execution_count": 252,
     "metadata": {},
     "output_type": "execute_result"
    }
   ],
   "source": [
    "train_data.head()"
   ]
  },
  {
   "cell_type": "code",
   "execution_count": 253,
   "metadata": {},
   "outputs": [],
   "source": [
    "cat_cols = list(train_data.select_dtypes(include=['object','bool']).columns)\n",
    "num_cols = list(train_data.select_dtypes(include=['float64']).columns)\n",
    "\n",
    "cat_cols_test = list(train_data.select_dtypes(include=['object','bool']).columns)\n",
    "cat_cols_test.remove(\"Transported\")"
   ]
  },
  {
   "cell_type": "code",
   "execution_count": 254,
   "metadata": {},
   "outputs": [],
   "source": [
    "from sklearn.impute import SimpleImputer\n",
    "\n",
    "imp_cat = SimpleImputer(missing_values=np.nan, strategy='most_frequent')\n",
    "imp_num = SimpleImputer(missing_values=np.nan, strategy='mean')\n",
    "\n",
    "# Train set\n",
    "train_cat = imp_cat.fit_transform(train_data[cat_cols])\n",
    "train_num  = imp_num.fit_transform(train_data[num_cols])\n",
    "\n",
    "# Test set\n",
    "test_cat = imp_cat.fit_transform(test_data[cat_cols_test])\n",
    "test_num  = imp_num.fit_transform(test_data[num_cols])"
   ]
  },
  {
   "cell_type": "code",
   "execution_count": 255,
   "metadata": {},
   "outputs": [],
   "source": [
    "# Train Set\n",
    "df_cat = pd.DataFrame(train_cat, columns=cat_cols)\n",
    "df_num = pd.DataFrame(train_num, columns=num_cols)\n",
    "df_train = pd.concat([df_cat, df_num], axis=1)\n",
    "\n",
    "# Test Set\n",
    "df_cat_test = pd.DataFrame(test_cat, columns=cat_cols_test)\n",
    "df_num_test = pd.DataFrame(test_num, columns=num_cols)\n",
    "df_test = pd.concat([df_cat_test, df_num_test], axis=1)"
   ]
  },
  {
   "cell_type": "code",
   "execution_count": 256,
   "metadata": {},
   "outputs": [
    {
     "data": {
      "text/plain": [
       "HomePlanet               0\n",
       "CryoSleep                0\n",
       "Destination              0\n",
       "VIP                      0\n",
       "Transported              0\n",
       "PassengerGroup           0\n",
       "PassengerGroup_Number    0\n",
       "Deck                     0\n",
       "Num                      0\n",
       "Side                     0\n",
       "FirstName                0\n",
       "LastName                 0\n",
       "Age                      0\n",
       "RoomService              0\n",
       "FoodCourt                0\n",
       "ShoppingMall             0\n",
       "Spa                      0\n",
       "VRDeck                   0\n",
       "dtype: int64"
      ]
     },
     "execution_count": 256,
     "metadata": {},
     "output_type": "execute_result"
    }
   ],
   "source": [
    "df_train.isna().sum()"
   ]
  },
  {
   "cell_type": "markdown",
   "metadata": {},
   "source": [
    "## Dtypes II"
   ]
  },
  {
   "cell_type": "markdown",
   "metadata": {},
   "source": [
    "Correct dtypes"
   ]
  },
  {
   "cell_type": "code",
   "execution_count": 257,
   "metadata": {},
   "outputs": [],
   "source": [
    "# Correct dtypes for train & test data\n",
    "\n",
    "df_train[\"CryoSleep\"] = df_train[\"CryoSleep\"].astype(int)\n",
    "df_train[\"VIP\"] = df_train[\"VIP\"].astype(int)\n",
    "df_train[\"Transported\"] = df_train[\"Transported\"].astype(int)\n",
    "df_train[\"Age\"] = df_train[\"Age\"].astype(int)\n",
    "df_train[\"RoomService\"] = df_train[\"RoomService\"].astype(int)\n",
    "df_train[\"FoodCourt\"] = df_train[\"FoodCourt\"].astype(int)\n",
    "df_train[\"ShoppingMall\"] = df_train[\"ShoppingMall\"].astype(int)\n",
    "df_train[\"Spa\"] = df_train[\"Spa\"].astype(int)\n",
    "df_train[\"VRDeck\"] = df_train[\"VRDeck\"].astype(int)\n",
    "df_train[\"PassengerGroup\"] = df_train[\"PassengerGroup\"].astype(int)\n",
    "df_train[\"PassengerGroup_Number\"] = df_train[\"PassengerGroup_Number\"].astype(int)\n",
    "df_train[\"Num\"] = df_train[\"Num\"].astype(int)\n",
    "\n",
    "df_test[\"CryoSleep\"] = df_test[\"CryoSleep\"].astype(int)\n",
    "df_test[\"VIP\"] = df_test[\"VIP\"].astype(int)\n",
    "df_test[\"Age\"] = df_test[\"Age\"].astype(int)\n",
    "df_test[\"RoomService\"] = df_test[\"RoomService\"].astype(int)\n",
    "df_test[\"FoodCourt\"] = df_test[\"FoodCourt\"].astype(int)\n",
    "df_test[\"ShoppingMall\"] = df_test[\"ShoppingMall\"].astype(int)\n",
    "df_test[\"Spa\"] = df_test[\"Spa\"].astype(int)\n",
    "df_test[\"VRDeck\"] = df_test[\"VRDeck\"].astype(int)\n",
    "df_test[\"PassengerGroup\"] = df_test[\"PassengerGroup\"].astype(int)\n",
    "df_test[\"PassengerGroup_Number\"] = df_test[\"PassengerGroup_Number\"].astype(int)\n",
    "df_test[\"Num\"] = df_test[\"Num\"].astype(int)"
   ]
  },
  {
   "cell_type": "code",
   "execution_count": 258,
   "metadata": {},
   "outputs": [
    {
     "data": {
      "text/html": [
       "<div>\n",
       "<style scoped>\n",
       "    .dataframe tbody tr th:only-of-type {\n",
       "        vertical-align: middle;\n",
       "    }\n",
       "\n",
       "    .dataframe tbody tr th {\n",
       "        vertical-align: top;\n",
       "    }\n",
       "\n",
       "    .dataframe thead th {\n",
       "        text-align: right;\n",
       "    }\n",
       "</style>\n",
       "<table border=\"1\" class=\"dataframe\">\n",
       "  <thead>\n",
       "    <tr style=\"text-align: right;\">\n",
       "      <th></th>\n",
       "      <th>HomePlanet</th>\n",
       "      <th>CryoSleep</th>\n",
       "      <th>Destination</th>\n",
       "      <th>VIP</th>\n",
       "      <th>Transported</th>\n",
       "      <th>PassengerGroup</th>\n",
       "      <th>PassengerGroup_Number</th>\n",
       "      <th>Deck</th>\n",
       "      <th>Num</th>\n",
       "      <th>Side</th>\n",
       "      <th>FirstName</th>\n",
       "      <th>LastName</th>\n",
       "      <th>Age</th>\n",
       "      <th>RoomService</th>\n",
       "      <th>FoodCourt</th>\n",
       "      <th>ShoppingMall</th>\n",
       "      <th>Spa</th>\n",
       "      <th>VRDeck</th>\n",
       "    </tr>\n",
       "  </thead>\n",
       "  <tbody>\n",
       "    <tr>\n",
       "      <th>0</th>\n",
       "      <td>Europa</td>\n",
       "      <td>0</td>\n",
       "      <td>TRAPPIST-1e</td>\n",
       "      <td>0</td>\n",
       "      <td>0</td>\n",
       "      <td>1</td>\n",
       "      <td>1</td>\n",
       "      <td>B</td>\n",
       "      <td>0</td>\n",
       "      <td>P</td>\n",
       "      <td>Maham</td>\n",
       "      <td>Ofracculy</td>\n",
       "      <td>39</td>\n",
       "      <td>0</td>\n",
       "      <td>0</td>\n",
       "      <td>0</td>\n",
       "      <td>0</td>\n",
       "      <td>0</td>\n",
       "    </tr>\n",
       "    <tr>\n",
       "      <th>1</th>\n",
       "      <td>Earth</td>\n",
       "      <td>0</td>\n",
       "      <td>TRAPPIST-1e</td>\n",
       "      <td>0</td>\n",
       "      <td>1</td>\n",
       "      <td>2</td>\n",
       "      <td>1</td>\n",
       "      <td>F</td>\n",
       "      <td>0</td>\n",
       "      <td>S</td>\n",
       "      <td>Juanna</td>\n",
       "      <td>Vines</td>\n",
       "      <td>24</td>\n",
       "      <td>109</td>\n",
       "      <td>9</td>\n",
       "      <td>25</td>\n",
       "      <td>549</td>\n",
       "      <td>44</td>\n",
       "    </tr>\n",
       "    <tr>\n",
       "      <th>2</th>\n",
       "      <td>Europa</td>\n",
       "      <td>0</td>\n",
       "      <td>TRAPPIST-1e</td>\n",
       "      <td>1</td>\n",
       "      <td>0</td>\n",
       "      <td>3</td>\n",
       "      <td>1</td>\n",
       "      <td>A</td>\n",
       "      <td>0</td>\n",
       "      <td>S</td>\n",
       "      <td>Altark</td>\n",
       "      <td>Susent</td>\n",
       "      <td>58</td>\n",
       "      <td>43</td>\n",
       "      <td>3576</td>\n",
       "      <td>0</td>\n",
       "      <td>6715</td>\n",
       "      <td>49</td>\n",
       "    </tr>\n",
       "    <tr>\n",
       "      <th>3</th>\n",
       "      <td>Europa</td>\n",
       "      <td>0</td>\n",
       "      <td>TRAPPIST-1e</td>\n",
       "      <td>0</td>\n",
       "      <td>0</td>\n",
       "      <td>3</td>\n",
       "      <td>2</td>\n",
       "      <td>A</td>\n",
       "      <td>0</td>\n",
       "      <td>S</td>\n",
       "      <td>Solam</td>\n",
       "      <td>Susent</td>\n",
       "      <td>33</td>\n",
       "      <td>0</td>\n",
       "      <td>1283</td>\n",
       "      <td>371</td>\n",
       "      <td>3329</td>\n",
       "      <td>193</td>\n",
       "    </tr>\n",
       "    <tr>\n",
       "      <th>4</th>\n",
       "      <td>Earth</td>\n",
       "      <td>0</td>\n",
       "      <td>TRAPPIST-1e</td>\n",
       "      <td>0</td>\n",
       "      <td>1</td>\n",
       "      <td>4</td>\n",
       "      <td>1</td>\n",
       "      <td>F</td>\n",
       "      <td>1</td>\n",
       "      <td>S</td>\n",
       "      <td>Willy</td>\n",
       "      <td>Santantines</td>\n",
       "      <td>16</td>\n",
       "      <td>303</td>\n",
       "      <td>70</td>\n",
       "      <td>151</td>\n",
       "      <td>565</td>\n",
       "      <td>2</td>\n",
       "    </tr>\n",
       "    <tr>\n",
       "      <th>...</th>\n",
       "      <td>...</td>\n",
       "      <td>...</td>\n",
       "      <td>...</td>\n",
       "      <td>...</td>\n",
       "      <td>...</td>\n",
       "      <td>...</td>\n",
       "      <td>...</td>\n",
       "      <td>...</td>\n",
       "      <td>...</td>\n",
       "      <td>...</td>\n",
       "      <td>...</td>\n",
       "      <td>...</td>\n",
       "      <td>...</td>\n",
       "      <td>...</td>\n",
       "      <td>...</td>\n",
       "      <td>...</td>\n",
       "      <td>...</td>\n",
       "      <td>...</td>\n",
       "    </tr>\n",
       "    <tr>\n",
       "      <th>8688</th>\n",
       "      <td>Europa</td>\n",
       "      <td>0</td>\n",
       "      <td>55 Cancri e</td>\n",
       "      <td>1</td>\n",
       "      <td>0</td>\n",
       "      <td>9276</td>\n",
       "      <td>1</td>\n",
       "      <td>A</td>\n",
       "      <td>98</td>\n",
       "      <td>P</td>\n",
       "      <td>Gravior</td>\n",
       "      <td>Noxnuther</td>\n",
       "      <td>41</td>\n",
       "      <td>0</td>\n",
       "      <td>6819</td>\n",
       "      <td>0</td>\n",
       "      <td>1643</td>\n",
       "      <td>74</td>\n",
       "    </tr>\n",
       "    <tr>\n",
       "      <th>8689</th>\n",
       "      <td>Earth</td>\n",
       "      <td>1</td>\n",
       "      <td>PSO J318.5-22</td>\n",
       "      <td>0</td>\n",
       "      <td>0</td>\n",
       "      <td>9278</td>\n",
       "      <td>1</td>\n",
       "      <td>G</td>\n",
       "      <td>1499</td>\n",
       "      <td>S</td>\n",
       "      <td>Kurta</td>\n",
       "      <td>Mondalley</td>\n",
       "      <td>18</td>\n",
       "      <td>0</td>\n",
       "      <td>0</td>\n",
       "      <td>0</td>\n",
       "      <td>0</td>\n",
       "      <td>0</td>\n",
       "    </tr>\n",
       "    <tr>\n",
       "      <th>8690</th>\n",
       "      <td>Earth</td>\n",
       "      <td>0</td>\n",
       "      <td>TRAPPIST-1e</td>\n",
       "      <td>0</td>\n",
       "      <td>1</td>\n",
       "      <td>9279</td>\n",
       "      <td>1</td>\n",
       "      <td>G</td>\n",
       "      <td>1500</td>\n",
       "      <td>S</td>\n",
       "      <td>Fayey</td>\n",
       "      <td>Connon</td>\n",
       "      <td>26</td>\n",
       "      <td>0</td>\n",
       "      <td>0</td>\n",
       "      <td>1872</td>\n",
       "      <td>1</td>\n",
       "      <td>0</td>\n",
       "    </tr>\n",
       "    <tr>\n",
       "      <th>8691</th>\n",
       "      <td>Europa</td>\n",
       "      <td>0</td>\n",
       "      <td>55 Cancri e</td>\n",
       "      <td>0</td>\n",
       "      <td>0</td>\n",
       "      <td>9280</td>\n",
       "      <td>1</td>\n",
       "      <td>E</td>\n",
       "      <td>608</td>\n",
       "      <td>S</td>\n",
       "      <td>Celeon</td>\n",
       "      <td>Hontichre</td>\n",
       "      <td>32</td>\n",
       "      <td>0</td>\n",
       "      <td>1049</td>\n",
       "      <td>0</td>\n",
       "      <td>353</td>\n",
       "      <td>3235</td>\n",
       "    </tr>\n",
       "    <tr>\n",
       "      <th>8692</th>\n",
       "      <td>Europa</td>\n",
       "      <td>0</td>\n",
       "      <td>TRAPPIST-1e</td>\n",
       "      <td>0</td>\n",
       "      <td>1</td>\n",
       "      <td>9280</td>\n",
       "      <td>2</td>\n",
       "      <td>E</td>\n",
       "      <td>608</td>\n",
       "      <td>S</td>\n",
       "      <td>Propsh</td>\n",
       "      <td>Hontichre</td>\n",
       "      <td>44</td>\n",
       "      <td>126</td>\n",
       "      <td>4688</td>\n",
       "      <td>0</td>\n",
       "      <td>0</td>\n",
       "      <td>12</td>\n",
       "    </tr>\n",
       "  </tbody>\n",
       "</table>\n",
       "<p>8693 rows × 18 columns</p>\n",
       "</div>"
      ],
      "text/plain": [
       "     HomePlanet  CryoSleep    Destination  VIP  Transported  PassengerGroup  \\\n",
       "0        Europa          0    TRAPPIST-1e    0            0               1   \n",
       "1         Earth          0    TRAPPIST-1e    0            1               2   \n",
       "2        Europa          0    TRAPPIST-1e    1            0               3   \n",
       "3        Europa          0    TRAPPIST-1e    0            0               3   \n",
       "4         Earth          0    TRAPPIST-1e    0            1               4   \n",
       "...         ...        ...            ...  ...          ...             ...   \n",
       "8688     Europa          0    55 Cancri e    1            0            9276   \n",
       "8689      Earth          1  PSO J318.5-22    0            0            9278   \n",
       "8690      Earth          0    TRAPPIST-1e    0            1            9279   \n",
       "8691     Europa          0    55 Cancri e    0            0            9280   \n",
       "8692     Europa          0    TRAPPIST-1e    0            1            9280   \n",
       "\n",
       "      PassengerGroup_Number Deck   Num Side FirstName     LastName  Age  \\\n",
       "0                         1    B     0    P     Maham    Ofracculy   39   \n",
       "1                         1    F     0    S    Juanna        Vines   24   \n",
       "2                         1    A     0    S    Altark       Susent   58   \n",
       "3                         2    A     0    S     Solam       Susent   33   \n",
       "4                         1    F     1    S     Willy  Santantines   16   \n",
       "...                     ...  ...   ...  ...       ...          ...  ...   \n",
       "8688                      1    A    98    P   Gravior    Noxnuther   41   \n",
       "8689                      1    G  1499    S     Kurta    Mondalley   18   \n",
       "8690                      1    G  1500    S     Fayey       Connon   26   \n",
       "8691                      1    E   608    S    Celeon    Hontichre   32   \n",
       "8692                      2    E   608    S    Propsh    Hontichre   44   \n",
       "\n",
       "      RoomService  FoodCourt  ShoppingMall   Spa  VRDeck  \n",
       "0               0          0             0     0       0  \n",
       "1             109          9            25   549      44  \n",
       "2              43       3576             0  6715      49  \n",
       "3               0       1283           371  3329     193  \n",
       "4             303         70           151   565       2  \n",
       "...           ...        ...           ...   ...     ...  \n",
       "8688            0       6819             0  1643      74  \n",
       "8689            0          0             0     0       0  \n",
       "8690            0          0          1872     1       0  \n",
       "8691            0       1049             0   353    3235  \n",
       "8692          126       4688             0     0      12  \n",
       "\n",
       "[8693 rows x 18 columns]"
      ]
     },
     "execution_count": 258,
     "metadata": {},
     "output_type": "execute_result"
    }
   ],
   "source": [
    "df_train"
   ]
  },
  {
   "cell_type": "markdown",
   "metadata": {},
   "source": [
    "## Exploratory Data Analysis"
   ]
  },
  {
   "cell_type": "code",
   "execution_count": 259,
   "metadata": {},
   "outputs": [],
   "source": [
    "# Extra column of sum of spendings (only for visualization)\n",
    "df_test['Spendings'] = df_test[\"RoomService\"] + df_test[\"FoodCourt\"] + df_test[\"ShoppingMall\"] + df_test[\"Spa\"] + df_test[\"VRDeck\"] \n",
    "df_train['Spendings'] = df_train[\"RoomService\"] + df_train[\"FoodCourt\"] + df_train[\"ShoppingMall\"] + df_train[\"Spa\"] + df_train[\"VRDeck\"]"
   ]
  },
  {
   "cell_type": "code",
   "execution_count": 260,
   "metadata": {},
   "outputs": [
    {
     "data": {
      "text/plain": [
       "0.5036236051995858"
      ]
     },
     "execution_count": 260,
     "metadata": {},
     "output_type": "execute_result"
    }
   ],
   "source": [
    "# ~ 50% of persons were transported\n",
    "# -> equal target class -> no over-/undersampling needed\n",
    "\n",
    "sum(df_train[\"Transported\"])/len(df_train[\"Transported\"])"
   ]
  },
  {
   "cell_type": "code",
   "execution_count": 261,
   "metadata": {},
   "outputs": [
    {
     "data": {
      "image/png": "[encoded data removed]",
      "text/plain": [
       "<Figure size 402.375x360 with 1 Axes>"
      ]
     },
     "metadata": {
      "needs_background": "light"
     },
     "output_type": "display_data"
    }
   ],
   "source": [
    "#sns.scatterplot(data=df_train, x=\"Age\", y=\"Spendings\", hue=\"VIP\")\n",
    "sns.lmplot(data=df_train, x='Age', y='Spendings', line_kws={'color': 'r'}, hue=\"VIP\")\n",
    "plt.show()"
   ]
  },
  {
   "cell_type": "markdown",
   "metadata": {},
   "source": [
    "- In this plot we can see that the spending increases with age and that VIP pessangers generally spend more.\n",
    "- Also VIPs seem to be at least 15 years, and maximum 75 years old\n",
    "- There is a cut in data at around 12 years of age: There may be a policy where under 12 year olds are free, or not allowed to spend money (or they dont have money)"
   ]
  },
  {
   "cell_type": "code",
   "execution_count": 262,
   "metadata": {},
   "outputs": [
    {
     "data": {
      "image/png": "[encoded data removed]",
      "text/plain": [
       "<Figure size 1440x360 with 3 Axes>"
      ]
     },
     "metadata": {
      "needs_background": "light"
     },
     "output_type": "display_data"
    }
   ],
   "source": [
    "f, axes = plt.subplots(1, 3, figsize=(20,5))\n",
    "\n",
    "sns.countplot(data=df_train, x=\"Destination\", hue=\"Transported\", ax=axes[0])\n",
    "sns.countplot(data=df_train, x=\"HomePlanet\", hue=\"Transported\", ax=axes[1])\n",
    "sns.countplot(data=df_train, x=\"CryoSleep\", hue=\"Transported\", ax=axes[2])\n",
    "plt.show()"
   ]
  },
  {
   "cell_type": "markdown",
   "metadata": {},
   "source": [
    "- There seems to no correlation of a person beeing transported and the persons home planet or destination\n",
    "- Ther definitely seems to be a correlation between Cryo Sleep and beeing transported\n",
    "\n",
    "--\n",
    "\n",
    "Theory: Since the ship collided with a \"space-time anomaly\", it could depend on where the person was at the time of the collision and whether he was transported. Unfortunately, we do not have data on the exact location of each person at that time, but we may be able to infer this from the data:\n",
    "- Possibly there is a special station with CryoSleep beds\n",
    "- We know the cabin of each passenger; assuming most people were in their cabin at the time of disappearance\n",
    "- Location of luxury amenities: someone who spends a lot there is likely to be in these places with high probability\n"
   ]
  },
  {
   "cell_type": "code",
   "execution_count": 263,
   "metadata": {},
   "outputs": [
    {
     "data": {
      "image/png": "[encoded data removed]",
      "text/plain": [
       "<Figure size 1440x360 with 3 Axes>"
      ]
     },
     "metadata": {
      "needs_background": "light"
     },
     "output_type": "display_data"
    }
   ],
   "source": [
    "f, axes = plt.subplots(1, 3, figsize=(20,5))\n",
    "\n",
    "sns.countplot(data=df_train.sort_values(\"Deck\", ascending=True), x=\"Deck\", hue=\"Transported\", ax=axes[0])\n",
    "sns.countplot(data=df_train, x=\"Side\", hue=\"Transported\", ax=axes[1])\n",
    "sns.histplot(data=df_train, x=\"Num\", hue=\"Transported\", ax=axes[2])\n",
    "plt.show()"
   ]
  },
  {
   "cell_type": "markdown",
   "metadata": {},
   "source": [
    "Looking at the graphs we can interpret the following:\n",
    "- Decks B and C appear to contain a large relative portion of the passengers carried, but decks F and G still contain the largest portion overall\n",
    "- The Side seems to not really correlate with the target\n",
    "- The Number of Cabin also seems to have spikes from 0-320 and from 700-1200 (we do not know yet how the Num is dependent with Deck and Side tho)\n",
    "\n",
    "Lets try to reconstruct the ship:"
   ]
  },
  {
   "cell_type": "code",
   "execution_count": 264,
   "metadata": {},
   "outputs": [
    {
     "data": {
      "image/png": "[encoded data removed]",
      "text/plain": [
       "<Figure size 1584x360 with 3 Axes>"
      ]
     },
     "metadata": {
      "needs_background": "light"
     },
     "output_type": "display_data"
    }
   ],
   "source": [
    "hue_order = [\"A\",\"B\",\"C\",\"D\",\"E\",\"F\",\"G\",\"T\"]\n",
    "\n",
    "f, axes = plt.subplots(1, 3, figsize=(22,5))\n",
    "\n",
    "sns.histplot(data=df_train, stat=\"count\", multiple=\"stack\", x=\"Num\", kde=False, hue=\"Side\", element=\"bars\", legend=True, ax=axes[0])\n",
    "sns.histplot(data=df_train[df_train[\"Side\"] == \"P\"], stat=\"count\", multiple=\"stack\", x=\"Num\", kde=False, hue=\"Deck\", element=\"bars\", legend=True, hue_order=hue_order, ax=axes[1]).set_title('Side P')\n",
    "sns.histplot(data=df_train[df_train[\"Side\"] == \"S\"], stat=\"count\", multiple=\"stack\", x=\"Num\", kde=False, hue=\"Deck\", element=\"bars\", legend=True, hue_order=hue_order, ax=axes[2]).set_title('Side S')\n",
    "plt.show()"
   ]
  },
  {
   "cell_type": "markdown",
   "metadata": {},
   "source": [
    "From the data you can see:\n",
    "- Both sides (starboard and port) are approximately equally occupied\n",
    "- The ship is divided into 8 levels (decks)\n",
    "- Most people live on decks G and F\n",
    "- Num probably refers to the length of the ship; low numbers are placed in the front (or back) and high numbers in the back (or front)\n",
    "- Most people live in the front (back)\n",
    "- The ship has more decks in front (back) and only 1 deck at the back (front)"
   ]
  },
  {
   "cell_type": "code",
   "execution_count": 265,
   "metadata": {},
   "outputs": [
    {
     "data": {
      "image/png": "[encoded data removed]",
      "text/plain": [
       "<Figure size 1080x360 with 2 Axes>"
      ]
     },
     "metadata": {
      "needs_background": "light"
     },
     "output_type": "display_data"
    }
   ],
   "source": [
    "f, axes = plt.subplots(1, 2, figsize=(15,5))\n",
    "\n",
    "sns.histplot(data=df_train, x=\"Age\", hue=\"Transported\", ax=axes[0])\n",
    "sns.histplot(data=df_train, x=\"PassengerGroup\", hue=\"Transported\", ax=axes[1])\n",
    "plt.show()"
   ]
  },
  {
   "cell_type": "markdown",
   "metadata": {},
   "source": [
    "- Very young passengers (babies) were more likely to be transported\n",
    "- Passenger groups 3000 - 7000 seem to have been transported more often"
   ]
  },
  {
   "cell_type": "markdown",
   "metadata": {},
   "source": [
    "## Equal distributions in test & train sets?"
   ]
  },
  {
   "cell_type": "markdown",
   "metadata": {},
   "source": [
    "Kolmogorov–Smirnov test:\n",
    "- H0: Distributions are the same\n",
    "- H1: Distributions are not the same\n",
    "\n",
    "$\\alpha = 5\\% $"
   ]
  },
  {
   "cell_type": "code",
   "execution_count": 267,
   "metadata": {},
   "outputs": [
    {
     "name": "stdout",
     "output_type": "stream",
     "text": [
      "HomePlanet (1.0)\n",
      "CryoSleep (1.0)\n",
      "Destination (1.0)\n",
      "VIP (1.0)\n",
      "PassengerGroup (1.0)\n",
      "PassengerGroup_Number (1.0)\n",
      "Deck (1.0)\n",
      "Num (1.0)\n",
      "Side (1.0)\n",
      "FirstName (1.0)\n",
      "LastName (1.0)\n",
      "Age (1.0)\n",
      "RoomService (1.0)\n",
      "FoodCourt (1.0)\n",
      "ShoppingMall (1.0)\n",
      "Spa (1.0)\n",
      "VRDeck (1.0)\n",
      "Spendings (1.0)\n"
     ]
    }
   ],
   "source": [
    "from scipy.stats import ks_2samp\n",
    "\n",
    "a = 0.05\n",
    "for col in df_test.columns:\n",
    "    p_val = ks_2samp(df_train[col], df_test[col])[1]\n",
    "\n",
    "    warn = \"\"\n",
    "    if p_val < a:\n",
    "        warn = \" Distributions differ!\"\n",
    "\n",
    "    print(col + \" (\" + str(p_val) + \")\" + warn)"
   ]
  },
  {
   "cell_type": "markdown",
   "metadata": {},
   "source": [
    "Distributions in both sets are equal."
   ]
  },
  {
   "cell_type": "markdown",
   "metadata": {},
   "source": [
    "# Data prep for models"
   ]
  },
  {
   "cell_type": "markdown",
   "metadata": {},
   "source": [
    "- One hot encoding of categorial variables\n",
    "- Train, Val, Test Split\n",
    "- Scaling of data"
   ]
  },
  {
   "cell_type": "code",
   "execution_count": 268,
   "metadata": {},
   "outputs": [],
   "source": [
    "# One hot encoding HomePlanet\n",
    "oh_planets = pd.get_dummies(df_train[\"HomePlanet\"])\n",
    "df_train = df_train.drop('HomePlanet',axis = 1)\n",
    "df_train = df_train.join(oh_planets)\n",
    "\n",
    "# One hot encoding Destination\n",
    "oh_destination = pd.get_dummies(df_train[\"Destination\"])\n",
    "df_train = df_train.drop('Destination',axis = 1)\n",
    "df_train = df_train.join(oh_destination)\n",
    "\n",
    "# One hot encoding Deck\n",
    "oh_deck = pd.get_dummies(df_train[\"Deck\"])\n",
    "df_train = df_train.drop('Deck',axis = 1)\n",
    "df_train = df_train.join(oh_deck)\n",
    "\n",
    "# Factorize Side\n",
    "df_train['Side'] = pd.factorize(df_train['Side'])[0]\n",
    "\n",
    "\n",
    "# Same for the test set\n",
    "oh_planets = pd.get_dummies(df_test[\"HomePlanet\"])\n",
    "df_test = df_test.drop('HomePlanet',axis = 1)\n",
    "df_test = df_test.join(oh_planets)\n",
    "oh_destination = pd.get_dummies(df_test[\"Destination\"])\n",
    "df_test = df_test.drop('Destination',axis = 1)\n",
    "df_test = df_test.join(oh_destination)\n",
    "oh_deck = pd.get_dummies(df_test[\"Deck\"])\n",
    "df_test = df_test.drop('Deck',axis = 1)\n",
    "df_test = df_test.join(oh_deck)\n",
    "df_test['Side'] = pd.factorize(df_test['Side'])[0]"
   ]
  },
  {
   "cell_type": "code",
   "execution_count": 272,
   "metadata": {},
   "outputs": [],
   "source": [
    "from sklearn.model_selection import train_test_split\n",
    "\n",
    "X = df_train.drop(['Transported', \"FirstName\", \"LastName\"], axis=1).to_numpy()\n",
    "y = df_train[\"Transported\"].to_numpy()\n",
    "\n",
    "X_train, X_val, y_train, y_val = train_test_split(X, y, test_size=0.20, random_state=42)\n",
    "\n",
    "X_test = df_test.drop([\"FirstName\", \"LastName\"], axis=1).to_numpy()"
   ]
  },
  {
   "cell_type": "code",
   "execution_count": 273,
   "metadata": {},
   "outputs": [],
   "source": [
    "from sklearn.preprocessing import StandardScaler\n",
    "\n",
    "scaler = StandardScaler()\n",
    "\n",
    "X_train = scaler.fit_transform(X_train)\n",
    "X_val = scaler.transform(X_val)\n",
    "X_test = scaler.transform(X_test)"
   ]
  },
  {
   "cell_type": "code",
   "execution_count": 274,
   "metadata": {},
   "outputs": [],
   "source": [
    "feature_cols = ['CryoSleep', 'VIP', 'PassengerGroup', 'PassengerGroup_Number', 'Num', 'Side', 'Age', 'RoomService', 'FoodCourt',\n",
    "    'ShoppingMall', 'Spa', 'VRDeck', 'Earth', 'Europa', 'Mars', '55 Cancri e', 'PSO J318.5-22', 'TRAPPIST-1e', 'A', 'B', 'C', 'D',\n",
    "    'E', 'F', 'G', 'T']"
   ]
  },
  {
   "cell_type": "markdown",
   "metadata": {},
   "source": [
    "# Model testing"
   ]
  },
  {
   "cell_type": "code",
   "execution_count": 40,
   "metadata": {},
   "outputs": [],
   "source": [
    "from model_report import model_report"
   ]
  },
  {
   "cell_type": "markdown",
   "metadata": {},
   "source": [
    "Model report is a function I wrote for another project, which outputs the standard model evaluation metrics of classification problems"
   ]
  },
  {
   "cell_type": "markdown",
   "metadata": {},
   "source": [
    "## Logistic regression"
   ]
  },
  {
   "cell_type": "code",
   "execution_count": 275,
   "metadata": {},
   "outputs": [],
   "source": [
    "from sklearn.linear_model import LogisticRegression\n",
    "\n",
    "logreg = LogisticRegression(random_state=0).fit(X_train, y_train)\n",
    "logreg_pred = logreg.predict(X_val)"
   ]
  },
  {
   "cell_type": "code",
   "execution_count": 276,
   "metadata": {},
   "outputs": [
    {
     "data": {
      "text/plain": [
       "0.7814836112708453"
      ]
     },
     "execution_count": 276,
     "metadata": {},
     "output_type": "execute_result"
    }
   ],
   "source": [
    "model_report_logreg = model_report(logreg, logreg_pred, y_val, print_out = False)\n",
    "model_report_logreg[\"model_performance\"]['accuracy']"
   ]
  },
  {
   "cell_type": "markdown",
   "metadata": {},
   "source": [
    "## Decision Tree"
   ]
  },
  {
   "cell_type": "code",
   "execution_count": 277,
   "metadata": {},
   "outputs": [],
   "source": [
    "from sklearn.tree import DecisionTreeClassifier\n",
    "\n",
    "dt_clf = DecisionTreeClassifier().fit(X_train, y_train)\n",
    "dt_clf_pred = dt_clf.predict(X_val)"
   ]
  },
  {
   "cell_type": "code",
   "execution_count": 278,
   "metadata": {},
   "outputs": [
    {
     "data": {
      "text/plain": [
       "0.7556066705002875"
      ]
     },
     "execution_count": 278,
     "metadata": {},
     "output_type": "execute_result"
    }
   ],
   "source": [
    "model_report_dt = model_report(dt_clf, dt_clf_pred, y_val, print_out = False)\n",
    "model_report_dt[\"model_performance\"]['accuracy']"
   ]
  },
  {
   "cell_type": "code",
   "execution_count": 280,
   "metadata": {},
   "outputs": [
    {
     "name": "stdout",
     "output_type": "stream",
     "text": [
      "Feature importance of feature 'Earth' = 27.2904%\n",
      "Feature importance of feature 'PassengerGroup' = 11.5432%\n",
      "Feature importance of feature 'Num' = 8.6223%\n",
      "Feature importance of feature 'Age' = 8.6123%\n",
      "Feature importance of feature 'FoodCourt' = 7.5874%\n",
      "Feature importance of feature 'ShoppingMall' = 6.6811%\n",
      "Feature importance of feature 'Spa' = 5.3728%\n",
      "Feature importance of feature 'VRDeck' = 4.1776%\n",
      "Feature importance of feature 'RoomService' = 4.0482%\n",
      "Feature importance of feature 'Europa' = 3.8894%\n"
     ]
    }
   ],
   "source": [
    "fi_dt = dt_clf.feature_importances_\n",
    "feature_importances_dt = sorted([(feature_cols[i], fi_dt[i]) for i in list(np.where(fi_dt > 0)[0])], key=lambda x: x[1], reverse=True)\n",
    "\n",
    "for i in feature_importances_dt[:10]:\n",
    "    print(\"Feature importance of feature '\" + str(i[0]) + \"' = \" + str(round(i[1]*100, 4)) + \"%\")\n"
   ]
  },
  {
   "cell_type": "markdown",
   "metadata": {},
   "source": [
    "## Gradient Boosting"
   ]
  },
  {
   "cell_type": "code",
   "execution_count": 281,
   "metadata": {},
   "outputs": [],
   "source": [
    "from sklearn.ensemble import GradientBoostingClassifier\n",
    "\n",
    "gb_clf = GradientBoostingClassifier().fit(X_train, y_train)\n",
    "gb_clf_pred = gb_clf.predict(X_val)"
   ]
  },
  {
   "cell_type": "code",
   "execution_count": 282,
   "metadata": {},
   "outputs": [
    {
     "data": {
      "text/plain": [
       "0.7947096032202415"
      ]
     },
     "execution_count": 282,
     "metadata": {},
     "output_type": "execute_result"
    }
   ],
   "source": [
    "model_report_gb = model_report(gb_clf, gb_clf_pred, y_val, print_out = False)\n",
    "model_report_gb[\"model_performance\"]['accuracy']"
   ]
  },
  {
   "cell_type": "code",
   "execution_count": 283,
   "metadata": {},
   "outputs": [
    {
     "name": "stdout",
     "output_type": "stream",
     "text": [
      "Feature importance of feature 'Earth' = 28.2617%\n",
      "Feature importance of feature 'CryoSleep' = 12.9987%\n",
      "Feature importance of feature 'FoodCourt' = 9.0257%\n",
      "Feature importance of feature 'Spa' = 8.6899%\n",
      "Feature importance of feature 'VRDeck' = 7.5391%\n",
      "Feature importance of feature 'ShoppingMall' = 6.6457%\n",
      "Feature importance of feature 'Europa' = 5.9298%\n",
      "Feature importance of feature 'RoomService' = 5.4912%\n",
      "Feature importance of feature 'Num' = 3.7531%\n",
      "Feature importance of feature 'F' = 2.7364%\n"
     ]
    }
   ],
   "source": [
    "fi_gb = gb_clf.feature_importances_\n",
    "feature_importances_gb = sorted([(feature_cols[i], fi_gb[i]) for i in list(np.where(fi_gb > 0)[0])], key=lambda x: x[1], reverse=True)\n",
    "\n",
    "for i in feature_importances_gb[:10]:\n",
    "    print(\"Feature importance of feature '\" + str(i[0]) + \"' = \" + str(round(i[1]*100, 4)) + \"%\")"
   ]
  },
  {
   "cell_type": "code",
   "execution_count": 293,
   "metadata": {},
   "outputs": [
    {
     "name": "stderr",
     "output_type": "stream",
     "text": [
      "/opt/anaconda3/lib/python3.7/site-packages/sklearn/utils/deprecation.py:87: FutureWarning: Function plot_confusion_matrix is deprecated; Function `plot_confusion_matrix` is deprecated in 1.0 and will be removed in 1.2. Use one of the class methods: ConfusionMatrixDisplay.from_predictions or ConfusionMatrixDisplay.from_estimator.\n",
      "  warnings.warn(msg, category=FutureWarning)\n"
     ]
    },
    {
     "data": {
      "image/png": "[encoded data removed]",
      "text/plain": [
       "<Figure size 432x288 with 2 Axes>"
      ]
     },
     "metadata": {
      "needs_background": "light"
     },
     "output_type": "display_data"
    }
   ],
   "source": [
    "from sklearn.metrics import plot_confusion_matrix\n",
    "\n",
    "plot_confusion_matrix(gb_clf, X_val, y_val)\n",
    "plt.show()"
   ]
  },
  {
   "cell_type": "markdown",
   "metadata": {},
   "source": [
    "Confusion matrix looks good. No unequal class predictions."
   ]
  },
  {
   "cell_type": "markdown",
   "metadata": {},
   "source": [
    "# Model optimization"
   ]
  },
  {
   "cell_type": "markdown",
   "metadata": {},
   "source": [
    "In the following I will try to optimize the Gradient Boosting Model since it seems to perform best."
   ]
  },
  {
   "cell_type": "code",
   "execution_count": 295,
   "metadata": {},
   "outputs": [],
   "source": [
    "from sklearn.model_selection import GridSearchCV\n",
    "\n",
    "param_grid = {\n",
    "    'n_estimators': [5, 10, 15],\n",
    "    'max_depth': [3, 5, 10],\n",
    "    'learning_rate': [0.001,0.1,1],\n",
    "}"
   ]
  },
  {
   "cell_type": "code",
   "execution_count": 296,
   "metadata": {},
   "outputs": [
    {
     "name": "stdout",
     "output_type": "stream",
     "text": [
      "Fitting 5 folds for each of 27 candidates, totalling 135 fits\n",
      "[CV 1/5] END learning_rate=0.001, max_depth=3, n_estimators=5;, score=0.503 total time=   0.0s\n",
      "[CV 2/5] END learning_rate=0.001, max_depth=3, n_estimators=5;, score=0.503 total time=   0.0s\n",
      "[CV 3/5] END learning_rate=0.001, max_depth=3, n_estimators=5;, score=0.503 total time=   0.0s\n",
      "[CV 4/5] END learning_rate=0.001, max_depth=3, n_estimators=5;, score=0.503 total time=   0.0s\n",
      "[CV 5/5] END learning_rate=0.001, max_depth=3, n_estimators=5;, score=0.504 total time=   0.0s\n",
      "[CV 1/5] END learning_rate=0.001, max_depth=3, n_estimators=10;, score=0.738 total time=   0.1s\n",
      "[CV 2/5] END learning_rate=0.001, max_depth=3, n_estimators=10;, score=0.759 total time=   0.1s\n",
      "[CV 3/5] END learning_rate=0.001, max_depth=3, n_estimators=10;, score=0.756 total time=   0.1s\n",
      "[CV 4/5] END learning_rate=0.001, max_depth=3, n_estimators=10;, score=0.754 total time=   0.1s\n",
      "[CV 5/5] END learning_rate=0.001, max_depth=3, n_estimators=10;, score=0.765 total time=   0.1s\n",
      "[CV 1/5] END learning_rate=0.001, max_depth=3, n_estimators=15;, score=0.738 total time=   0.1s\n",
      "[CV 2/5] END learning_rate=0.001, max_depth=3, n_estimators=15;, score=0.759 total time=   0.1s\n",
      "[CV 3/5] END learning_rate=0.001, max_depth=3, n_estimators=15;, score=0.756 total time=   0.1s\n",
      "[CV 4/5] END learning_rate=0.001, max_depth=3, n_estimators=15;, score=0.754 total time=   0.1s\n",
      "[CV 5/5] END learning_rate=0.001, max_depth=3, n_estimators=15;, score=0.765 total time=   0.1s\n",
      "[CV 1/5] END learning_rate=0.001, max_depth=5, n_estimators=5;, score=0.503 total time=   0.1s\n",
      "[CV 2/5] END learning_rate=0.001, max_depth=5, n_estimators=5;, score=0.503 total time=   0.1s\n",
      "[CV 3/5] END learning_rate=0.001, max_depth=5, n_estimators=5;, score=0.503 total time=   0.1s\n",
      "[CV 4/5] END learning_rate=0.001, max_depth=5, n_estimators=5;, score=0.503 total time=   0.1s\n",
      "[CV 5/5] END learning_rate=0.001, max_depth=5, n_estimators=5;, score=0.504 total time=   0.1s\n",
      "[CV 1/5] END learning_rate=0.001, max_depth=5, n_estimators=10;, score=0.738 total time=   0.1s\n",
      "[CV 2/5] END learning_rate=0.001, max_depth=5, n_estimators=10;, score=0.625 total time=   0.1s\n",
      "[CV 3/5] END learning_rate=0.001, max_depth=5, n_estimators=10;, score=0.628 total time=   0.1s\n",
      "[CV 4/5] END learning_rate=0.001, max_depth=5, n_estimators=10;, score=0.755 total time=   0.1s\n",
      "[CV 5/5] END learning_rate=0.001, max_depth=5, n_estimators=10;, score=0.774 total time=   0.1s\n",
      "[CV 1/5] END learning_rate=0.001, max_depth=5, n_estimators=15;, score=0.763 total time=   0.2s\n",
      "[CV 2/5] END learning_rate=0.001, max_depth=5, n_estimators=15;, score=0.772 total time=   0.2s\n",
      "[CV 3/5] END learning_rate=0.001, max_depth=5, n_estimators=15;, score=0.757 total time=   0.2s\n",
      "[CV 4/5] END learning_rate=0.001, max_depth=5, n_estimators=15;, score=0.761 total time=   0.2s\n",
      "[CV 5/5] END learning_rate=0.001, max_depth=5, n_estimators=15;, score=0.794 total time=   0.2s\n",
      "[CV 1/5] END learning_rate=0.001, max_depth=10, n_estimators=5;, score=0.503 total time=   0.1s\n",
      "[CV 2/5] END learning_rate=0.001, max_depth=10, n_estimators=5;, score=0.503 total time=   0.1s\n",
      "[CV 3/5] END learning_rate=0.001, max_depth=10, n_estimators=5;, score=0.503 total time=   0.1s\n",
      "[CV 4/5] END learning_rate=0.001, max_depth=10, n_estimators=5;, score=0.503 total time=   0.1s\n",
      "[CV 5/5] END learning_rate=0.001, max_depth=10, n_estimators=5;, score=0.504 total time=   0.1s\n",
      "[CV 1/5] END learning_rate=0.001, max_depth=10, n_estimators=10;, score=0.742 total time=   0.3s\n",
      "[CV 2/5] END learning_rate=0.001, max_depth=10, n_estimators=10;, score=0.738 total time=   0.3s\n",
      "[CV 3/5] END learning_rate=0.001, max_depth=10, n_estimators=10;, score=0.731 total time=   0.3s\n",
      "[CV 4/5] END learning_rate=0.001, max_depth=10, n_estimators=10;, score=0.735 total time=   0.3s\n",
      "[CV 5/5] END learning_rate=0.001, max_depth=10, n_estimators=10;, score=0.765 total time=   0.3s\n",
      "[CV 1/5] END learning_rate=0.001, max_depth=10, n_estimators=15;, score=0.778 total time=   0.4s\n",
      "[CV 2/5] END learning_rate=0.001, max_depth=10, n_estimators=15;, score=0.778 total time=   0.4s\n",
      "[CV 3/5] END learning_rate=0.001, max_depth=10, n_estimators=15;, score=0.751 total time=   0.4s\n",
      "[CV 4/5] END learning_rate=0.001, max_depth=10, n_estimators=15;, score=0.762 total time=   0.4s\n",
      "[CV 5/5] END learning_rate=0.001, max_depth=10, n_estimators=15;, score=0.784 total time=   0.4s\n",
      "[CV 1/5] END learning_rate=0.1, max_depth=3, n_estimators=5;, score=0.759 total time=   0.0s\n",
      "[CV 2/5] END learning_rate=0.1, max_depth=3, n_estimators=5;, score=0.774 total time=   0.0s\n",
      "[CV 3/5] END learning_rate=0.1, max_depth=3, n_estimators=5;, score=0.774 total time=   0.0s\n",
      "[CV 4/5] END learning_rate=0.1, max_depth=3, n_estimators=5;, score=0.774 total time=   0.0s\n",
      "[CV 5/5] END learning_rate=0.1, max_depth=3, n_estimators=5;, score=0.791 total time=   0.0s\n",
      "[CV 1/5] END learning_rate=0.1, max_depth=3, n_estimators=10;, score=0.779 total time=   0.1s\n",
      "[CV 2/5] END learning_rate=0.1, max_depth=3, n_estimators=10;, score=0.783 total time=   0.1s\n",
      "[CV 3/5] END learning_rate=0.1, max_depth=3, n_estimators=10;, score=0.781 total time=   0.1s\n",
      "[CV 4/5] END learning_rate=0.1, max_depth=3, n_estimators=10;, score=0.780 total time=   0.1s\n",
      "[CV 5/5] END learning_rate=0.1, max_depth=3, n_estimators=10;, score=0.799 total time=   0.1s\n",
      "[CV 1/5] END learning_rate=0.1, max_depth=3, n_estimators=15;, score=0.768 total time=   0.1s\n",
      "[CV 2/5] END learning_rate=0.1, max_depth=3, n_estimators=15;, score=0.785 total time=   0.1s\n",
      "[CV 3/5] END learning_rate=0.1, max_depth=3, n_estimators=15;, score=0.784 total time=   0.1s\n",
      "[CV 4/5] END learning_rate=0.1, max_depth=3, n_estimators=15;, score=0.786 total time=   0.1s\n",
      "[CV 5/5] END learning_rate=0.1, max_depth=3, n_estimators=15;, score=0.797 total time=   0.1s\n",
      "[CV 1/5] END learning_rate=0.1, max_depth=5, n_estimators=5;, score=0.782 total time=   0.1s\n",
      "[CV 2/5] END learning_rate=0.1, max_depth=5, n_estimators=5;, score=0.792 total time=   0.1s\n",
      "[CV 3/5] END learning_rate=0.1, max_depth=5, n_estimators=5;, score=0.781 total time=   0.1s\n",
      "[CV 4/5] END learning_rate=0.1, max_depth=5, n_estimators=5;, score=0.787 total time=   0.1s\n",
      "[CV 5/5] END learning_rate=0.1, max_depth=5, n_estimators=5;, score=0.808 total time=   0.1s\n",
      "[CV 1/5] END learning_rate=0.1, max_depth=5, n_estimators=10;, score=0.786 total time=   0.1s\n",
      "[CV 2/5] END learning_rate=0.1, max_depth=5, n_estimators=10;, score=0.799 total time=   0.1s\n",
      "[CV 3/5] END learning_rate=0.1, max_depth=5, n_estimators=10;, score=0.785 total time=   0.1s\n",
      "[CV 4/5] END learning_rate=0.1, max_depth=5, n_estimators=10;, score=0.792 total time=   0.1s\n",
      "[CV 5/5] END learning_rate=0.1, max_depth=5, n_estimators=10;, score=0.812 total time=   0.1s\n",
      "[CV 1/5] END learning_rate=0.1, max_depth=5, n_estimators=15;, score=0.787 total time=   0.2s\n",
      "[CV 2/5] END learning_rate=0.1, max_depth=5, n_estimators=15;, score=0.802 total time=   0.2s\n",
      "[CV 3/5] END learning_rate=0.1, max_depth=5, n_estimators=15;, score=0.795 total time=   0.2s\n",
      "[CV 4/5] END learning_rate=0.1, max_depth=5, n_estimators=15;, score=0.796 total time=   0.2s\n",
      "[CV 5/5] END learning_rate=0.1, max_depth=5, n_estimators=15;, score=0.817 total time=   0.2s\n",
      "[CV 1/5] END learning_rate=0.1, max_depth=10, n_estimators=5;, score=0.783 total time=   0.1s\n",
      "[CV 2/5] END learning_rate=0.1, max_depth=10, n_estimators=5;, score=0.776 total time=   0.1s\n",
      "[CV 3/5] END learning_rate=0.1, max_depth=10, n_estimators=5;, score=0.779 total time=   0.1s\n",
      "[CV 4/5] END learning_rate=0.1, max_depth=10, n_estimators=5;, score=0.789 total time=   0.1s\n",
      "[CV 5/5] END learning_rate=0.1, max_depth=10, n_estimators=5;, score=0.789 total time=   0.1s\n",
      "[CV 1/5] END learning_rate=0.1, max_depth=10, n_estimators=10;, score=0.794 total time=   0.3s\n",
      "[CV 2/5] END learning_rate=0.1, max_depth=10, n_estimators=10;, score=0.781 total time=   0.3s\n",
      "[CV 3/5] END learning_rate=0.1, max_depth=10, n_estimators=10;, score=0.789 total time=   0.3s\n",
      "[CV 4/5] END learning_rate=0.1, max_depth=10, n_estimators=10;, score=0.787 total time=   0.3s\n",
      "[CV 5/5] END learning_rate=0.1, max_depth=10, n_estimators=10;, score=0.800 total time=   0.3s\n",
      "[CV 1/5] END learning_rate=0.1, max_depth=10, n_estimators=15;, score=0.791 total time=   0.4s\n",
      "[CV 2/5] END learning_rate=0.1, max_depth=10, n_estimators=15;, score=0.786 total time=   0.5s\n",
      "[CV 3/5] END learning_rate=0.1, max_depth=10, n_estimators=15;, score=0.793 total time=   0.4s\n",
      "[CV 4/5] END learning_rate=0.1, max_depth=10, n_estimators=15;, score=0.785 total time=   0.5s\n",
      "[CV 5/5] END learning_rate=0.1, max_depth=10, n_estimators=15;, score=0.794 total time=   0.5s\n",
      "[CV 1/5] END learning_rate=1, max_depth=3, n_estimators=5;, score=0.766 total time=   0.0s\n",
      "[CV 2/5] END learning_rate=1, max_depth=3, n_estimators=5;, score=0.786 total time=   0.0s\n",
      "[CV 3/5] END learning_rate=1, max_depth=3, n_estimators=5;, score=0.792 total time=   0.0s\n",
      "[CV 4/5] END learning_rate=1, max_depth=3, n_estimators=5;, score=0.783 total time=   0.0s\n",
      "[CV 5/5] END learning_rate=1, max_depth=3, n_estimators=5;, score=0.797 total time=   0.0s\n",
      "[CV 1/5] END learning_rate=1, max_depth=3, n_estimators=10;, score=0.784 total time=   0.1s\n",
      "[CV 2/5] END learning_rate=1, max_depth=3, n_estimators=10;, score=0.798 total time=   0.1s\n",
      "[CV 3/5] END learning_rate=1, max_depth=3, n_estimators=10;, score=0.794 total time=   0.1s\n",
      "[CV 4/5] END learning_rate=1, max_depth=3, n_estimators=10;, score=0.794 total time=   0.1s\n",
      "[CV 5/5] END learning_rate=1, max_depth=3, n_estimators=10;, score=0.799 total time=   0.1s\n",
      "[CV 1/5] END learning_rate=1, max_depth=3, n_estimators=15;, score=0.786 total time=   0.1s\n",
      "[CV 2/5] END learning_rate=1, max_depth=3, n_estimators=15;, score=0.808 total time=   0.1s\n",
      "[CV 3/5] END learning_rate=1, max_depth=3, n_estimators=15;, score=0.799 total time=   0.1s\n",
      "[CV 4/5] END learning_rate=1, max_depth=3, n_estimators=15;, score=0.788 total time=   0.1s\n",
      "[CV 5/5] END learning_rate=1, max_depth=3, n_estimators=15;, score=0.809 total time=   0.1s\n",
      "[CV 1/5] END learning_rate=1, max_depth=5, n_estimators=5;, score=0.788 total time=   0.1s\n",
      "[CV 2/5] END learning_rate=1, max_depth=5, n_estimators=5;, score=0.814 total time=   0.1s\n",
      "[CV 3/5] END learning_rate=1, max_depth=5, n_estimators=5;, score=0.791 total time=   0.1s\n",
      "[CV 4/5] END learning_rate=1, max_depth=5, n_estimators=5;, score=0.778 total time=   0.1s\n",
      "[CV 5/5] END learning_rate=1, max_depth=5, n_estimators=5;, score=0.809 total time=   0.1s\n",
      "[CV 1/5] END learning_rate=1, max_depth=5, n_estimators=10;, score=0.794 total time=   0.1s\n",
      "[CV 2/5] END learning_rate=1, max_depth=5, n_estimators=10;, score=0.802 total time=   0.1s\n",
      "[CV 3/5] END learning_rate=1, max_depth=5, n_estimators=10;, score=0.792 total time=   0.1s\n",
      "[CV 4/5] END learning_rate=1, max_depth=5, n_estimators=10;, score=0.786 total time=   0.1s\n",
      "[CV 5/5] END learning_rate=1, max_depth=5, n_estimators=10;, score=0.790 total time=   0.1s\n",
      "[CV 1/5] END learning_rate=1, max_depth=5, n_estimators=15;, score=0.802 total time=   0.2s\n",
      "[CV 2/5] END learning_rate=1, max_depth=5, n_estimators=15;, score=0.802 total time=   0.2s\n",
      "[CV 3/5] END learning_rate=1, max_depth=5, n_estimators=15;, score=0.787 total time=   0.2s\n",
      "[CV 4/5] END learning_rate=1, max_depth=5, n_estimators=15;, score=0.788 total time=   0.2s\n",
      "[CV 5/5] END learning_rate=1, max_depth=5, n_estimators=15;, score=0.791 total time=   0.2s\n",
      "[CV 1/5] END learning_rate=1, max_depth=10, n_estimators=5;, score=0.783 total time=   0.1s\n",
      "[CV 2/5] END learning_rate=1, max_depth=10, n_estimators=5;, score=0.776 total time=   0.1s\n",
      "[CV 3/5] END learning_rate=1, max_depth=10, n_estimators=5;, score=0.772 total time=   0.1s\n",
      "[CV 4/5] END learning_rate=1, max_depth=10, n_estimators=5;, score=0.771 total time=   0.1s\n",
      "[CV 5/5] END learning_rate=1, max_depth=10, n_estimators=5;, score=0.768 total time=   0.1s\n",
      "[CV 1/5] END learning_rate=1, max_depth=10, n_estimators=10;, score=0.783 total time=   0.3s\n",
      "[CV 2/5] END learning_rate=1, max_depth=10, n_estimators=10;, score=0.780 total time=   0.3s\n",
      "[CV 3/5] END learning_rate=1, max_depth=10, n_estimators=10;, score=0.758 total time=   0.3s\n",
      "[CV 4/5] END learning_rate=1, max_depth=10, n_estimators=10;, score=0.756 total time=   0.3s\n",
      "[CV 5/5] END learning_rate=1, max_depth=10, n_estimators=10;, score=0.761 total time=   0.3s\n",
      "[CV 1/5] END learning_rate=1, max_depth=10, n_estimators=15;, score=0.788 total time=   0.4s\n",
      "[CV 2/5] END learning_rate=1, max_depth=10, n_estimators=15;, score=0.776 total time=   0.4s\n",
      "[CV 3/5] END learning_rate=1, max_depth=10, n_estimators=15;, score=0.775 total time=   0.4s\n",
      "[CV 4/5] END learning_rate=1, max_depth=10, n_estimators=15;, score=0.781 total time=   0.4s\n",
      "[CV 5/5] END learning_rate=1, max_depth=10, n_estimators=15;, score=0.781 total time=   0.4s\n"
     ]
    },
    {
     "data": {
      "text/plain": [
       "GridSearchCV(estimator=GradientBoostingClassifier(),\n",
       "             param_grid={'learning_rate': [0.001, 0.1, 1],\n",
       "                         'max_depth': [3, 5, 10], 'n_estimators': [5, 10, 15]},\n",
       "             scoring='accuracy', verbose=3)"
      ]
     },
     "execution_count": 296,
     "metadata": {},
     "output_type": "execute_result"
    }
   ],
   "source": [
    "gb_classifier = GradientBoostingClassifier()\n",
    "gs_gb = GridSearchCV(gb_classifier, param_grid = param_grid, scoring = 'accuracy', verbose=3)\n",
    "\n",
    "gs_gb.fit(X_train, y_train)"
   ]
  },
  {
   "cell_type": "code",
   "execution_count": 299,
   "metadata": {},
   "outputs": [
    {
     "name": "stdout",
     "output_type": "stream",
     "text": [
      "0.7992547155661525\n",
      "{'learning_rate': 0.1, 'max_depth': 5, 'n_estimators': 15}\n"
     ]
    }
   ],
   "source": [
    "GridSearch_GB_ESTIMATOR = gs_gb.best_estimator_\n",
    "\n",
    "print(gs_gb.best_score_)\n",
    "print(gs_gb.best_params_)"
   ]
  },
  {
   "cell_type": "code",
   "execution_count": 300,
   "metadata": {},
   "outputs": [
    {
     "data": {
      "image/png": "[encoded data removed]",
      "text/plain": [
       "<Figure size 432x288 with 1 Axes>"
      ]
     },
     "metadata": {
      "needs_background": "light"
     },
     "output_type": "display_data"
    },
    {
     "data": {
      "image/png": "[encoded data removed]",
      "text/plain": [
       "<Figure size 432x288 with 1 Axes>"
      ]
     },
     "metadata": {
      "needs_background": "light"
     },
     "output_type": "display_data"
    },
    {
     "data": {
      "image/png": "[encoded data removed]",
      "text/plain": [
       "<Figure size 432x288 with 1 Axes>"
      ]
     },
     "metadata": {
      "needs_background": "light"
     },
     "output_type": "display_data"
    }
   ],
   "source": [
    "# lets analyze the results:\n",
    "fits_df = pd.DataFrame(gs_gb.cv_results_)\n",
    "fits_df = fits_df.astype({\"param_learning_rate\": float, \"param_max_depth\": float, \"param_n_estimators\": float}, errors='raise')\n",
    "\n",
    "plt.plot(fits_df.groupby([\"param_max_depth\"]).mean()[[\"mean_test_score\"]])\n",
    "plt.title(\"param max_depth\")\n",
    "plt.show()\n",
    "\n",
    "plt.plot(fits_df.groupby([\"param_learning_rate\"]).mean()[[\"mean_test_score\"]])\n",
    "plt.title(\"param learning_rate\")\n",
    "plt.show()\n",
    "\n",
    "plt.plot(fits_df.groupby([\"param_n_estimators\"]).mean()[[\"mean_test_score\"]])\n",
    "plt.title(\"param n_estimators\")\n",
    "plt.show()"
   ]
  },
  {
   "cell_type": "code",
   "execution_count": 301,
   "metadata": {},
   "outputs": [],
   "source": [
    "param_grid_2 = {\n",
    "    'max_depth': [4,5,6],\n",
    "    'learning_rate': [0.05,0.1,0.15],\n",
    "    'n_estimators': [15, 25, 50]\n",
    "}"
   ]
  },
  {
   "cell_type": "code",
   "execution_count": 302,
   "metadata": {},
   "outputs": [
    {
     "name": "stdout",
     "output_type": "stream",
     "text": [
      "Fitting 5 folds for each of 27 candidates, totalling 135 fits\n",
      "[CV 1/5] END learning_rate=0.05, max_depth=4, n_estimators=15;, score=0.784 total time=   0.2s\n",
      "[CV 2/5] END learning_rate=0.05, max_depth=4, n_estimators=15;, score=0.792 total time=   0.2s\n",
      "[CV 3/5] END learning_rate=0.05, max_depth=4, n_estimators=15;, score=0.786 total time=   0.2s\n",
      "[CV 4/5] END learning_rate=0.05, max_depth=4, n_estimators=15;, score=0.786 total time=   0.2s\n",
      "[CV 5/5] END learning_rate=0.05, max_depth=4, n_estimators=15;, score=0.799 total time=   0.2s\n",
      "[CV 1/5] END learning_rate=0.05, max_depth=4, n_estimators=25;, score=0.786 total time=   0.3s\n",
      "[CV 2/5] END learning_rate=0.05, max_depth=4, n_estimators=25;, score=0.795 total time=   0.3s\n",
      "[CV 3/5] END learning_rate=0.05, max_depth=4, n_estimators=25;, score=0.795 total time=   0.3s\n",
      "[CV 4/5] END learning_rate=0.05, max_depth=4, n_estimators=25;, score=0.797 total time=   0.3s\n",
      "[CV 5/5] END learning_rate=0.05, max_depth=4, n_estimators=25;, score=0.805 total time=   0.3s\n",
      "[CV 1/5] END learning_rate=0.05, max_depth=4, n_estimators=50;, score=0.797 total time=   0.5s\n",
      "[CV 2/5] END learning_rate=0.05, max_depth=4, n_estimators=50;, score=0.807 total time=   0.5s\n",
      "[CV 3/5] END learning_rate=0.05, max_depth=4, n_estimators=50;, score=0.789 total time=   0.5s\n",
      "[CV 4/5] END learning_rate=0.05, max_depth=4, n_estimators=50;, score=0.800 total time=   0.5s\n",
      "[CV 5/5] END learning_rate=0.05, max_depth=4, n_estimators=50;, score=0.809 total time=   0.5s\n",
      "[CV 1/5] END learning_rate=0.05, max_depth=5, n_estimators=15;, score=0.783 total time=   0.2s\n",
      "[CV 2/5] END learning_rate=0.05, max_depth=5, n_estimators=15;, score=0.797 total time=   0.2s\n",
      "[CV 3/5] END learning_rate=0.05, max_depth=5, n_estimators=15;, score=0.780 total time=   0.2s\n",
      "[CV 4/5] END learning_rate=0.05, max_depth=5, n_estimators=15;, score=0.787 total time=   0.2s\n",
      "[CV 5/5] END learning_rate=0.05, max_depth=5, n_estimators=15;, score=0.809 total time=   0.2s\n",
      "[CV 1/5] END learning_rate=0.05, max_depth=5, n_estimators=25;, score=0.789 total time=   0.3s\n",
      "[CV 2/5] END learning_rate=0.05, max_depth=5, n_estimators=25;, score=0.803 total time=   0.3s\n",
      "[CV 3/5] END learning_rate=0.05, max_depth=5, n_estimators=25;, score=0.794 total time=   0.3s\n",
      "[CV 4/5] END learning_rate=0.05, max_depth=5, n_estimators=25;, score=0.792 total time=   0.3s\n",
      "[CV 5/5] END learning_rate=0.05, max_depth=5, n_estimators=25;, score=0.816 total time=   0.3s\n",
      "[CV 1/5] END learning_rate=0.05, max_depth=5, n_estimators=50;, score=0.797 total time=   0.6s\n",
      "[CV 2/5] END learning_rate=0.05, max_depth=5, n_estimators=50;, score=0.814 total time=   0.6s\n",
      "[CV 3/5] END learning_rate=0.05, max_depth=5, n_estimators=50;, score=0.802 total time=   0.6s\n",
      "[CV 4/5] END learning_rate=0.05, max_depth=5, n_estimators=50;, score=0.804 total time=   0.7s\n",
      "[CV 5/5] END learning_rate=0.05, max_depth=5, n_estimators=50;, score=0.806 total time=   0.7s\n",
      "[CV 1/5] END learning_rate=0.05, max_depth=6, n_estimators=15;, score=0.788 total time=   0.2s\n",
      "[CV 2/5] END learning_rate=0.05, max_depth=6, n_estimators=15;, score=0.802 total time=   0.2s\n",
      "[CV 3/5] END learning_rate=0.05, max_depth=6, n_estimators=15;, score=0.799 total time=   0.2s\n",
      "[CV 4/5] END learning_rate=0.05, max_depth=6, n_estimators=15;, score=0.771 total time=   0.2s\n",
      "[CV 5/5] END learning_rate=0.05, max_depth=6, n_estimators=15;, score=0.804 total time=   0.2s\n",
      "[CV 1/5] END learning_rate=0.05, max_depth=6, n_estimators=25;, score=0.786 total time=   0.4s\n",
      "[CV 2/5] END learning_rate=0.05, max_depth=6, n_estimators=25;, score=0.802 total time=   0.4s\n",
      "[CV 3/5] END learning_rate=0.05, max_depth=6, n_estimators=25;, score=0.802 total time=   0.4s\n",
      "[CV 4/5] END learning_rate=0.05, max_depth=6, n_estimators=25;, score=0.784 total time=   0.4s\n",
      "[CV 5/5] END learning_rate=0.05, max_depth=6, n_estimators=25;, score=0.809 total time=   0.4s\n",
      "[CV 1/5] END learning_rate=0.05, max_depth=6, n_estimators=50;, score=0.795 total time=   0.8s\n",
      "[CV 2/5] END learning_rate=0.05, max_depth=6, n_estimators=50;, score=0.808 total time=   0.8s\n",
      "[CV 3/5] END learning_rate=0.05, max_depth=6, n_estimators=50;, score=0.810 total time=   0.8s\n",
      "[CV 4/5] END learning_rate=0.05, max_depth=6, n_estimators=50;, score=0.794 total time=   0.8s\n",
      "[CV 5/5] END learning_rate=0.05, max_depth=6, n_estimators=50;, score=0.809 total time=   0.8s\n",
      "[CV 1/5] END learning_rate=0.1, max_depth=4, n_estimators=15;, score=0.791 total time=   0.2s\n",
      "[CV 2/5] END learning_rate=0.1, max_depth=4, n_estimators=15;, score=0.805 total time=   0.2s\n",
      "[CV 3/5] END learning_rate=0.1, max_depth=4, n_estimators=15;, score=0.792 total time=   0.2s\n",
      "[CV 4/5] END learning_rate=0.1, max_depth=4, n_estimators=15;, score=0.794 total time=   0.2s\n",
      "[CV 5/5] END learning_rate=0.1, max_depth=4, n_estimators=15;, score=0.806 total time=   0.2s\n",
      "[CV 1/5] END learning_rate=0.1, max_depth=4, n_estimators=25;, score=0.799 total time=   0.3s\n",
      "[CV 2/5] END learning_rate=0.1, max_depth=4, n_estimators=25;, score=0.809 total time=   0.3s\n",
      "[CV 3/5] END learning_rate=0.1, max_depth=4, n_estimators=25;, score=0.792 total time=   0.3s\n",
      "[CV 4/5] END learning_rate=0.1, max_depth=4, n_estimators=25;, score=0.797 total time=   0.3s\n",
      "[CV 5/5] END learning_rate=0.1, max_depth=4, n_estimators=25;, score=0.809 total time=   0.3s\n",
      "[CV 1/5] END learning_rate=0.1, max_depth=4, n_estimators=50;, score=0.802 total time=   0.5s\n",
      "[CV 2/5] END learning_rate=0.1, max_depth=4, n_estimators=50;, score=0.818 total time=   0.5s\n",
      "[CV 3/5] END learning_rate=0.1, max_depth=4, n_estimators=50;, score=0.800 total time=   0.5s\n",
      "[CV 4/5] END learning_rate=0.1, max_depth=4, n_estimators=50;, score=0.799 total time=   0.5s\n",
      "[CV 5/5] END learning_rate=0.1, max_depth=4, n_estimators=50;, score=0.818 total time=   0.5s\n",
      "[CV 1/5] END learning_rate=0.1, max_depth=5, n_estimators=15;, score=0.787 total time=   0.2s\n",
      "[CV 2/5] END learning_rate=0.1, max_depth=5, n_estimators=15;, score=0.802 total time=   0.2s\n",
      "[CV 3/5] END learning_rate=0.1, max_depth=5, n_estimators=15;, score=0.794 total time=   0.2s\n",
      "[CV 4/5] END learning_rate=0.1, max_depth=5, n_estimators=15;, score=0.796 total time=   0.2s\n",
      "[CV 5/5] END learning_rate=0.1, max_depth=5, n_estimators=15;, score=0.816 total time=   0.2s\n",
      "[CV 1/5] END learning_rate=0.1, max_depth=5, n_estimators=25;, score=0.792 total time=   0.3s\n",
      "[CV 2/5] END learning_rate=0.1, max_depth=5, n_estimators=25;, score=0.809 total time=   0.3s\n",
      "[CV 3/5] END learning_rate=0.1, max_depth=5, n_estimators=25;, score=0.803 total time=   0.3s\n",
      "[CV 4/5] END learning_rate=0.1, max_depth=5, n_estimators=25;, score=0.804 total time=   0.3s\n",
      "[CV 5/5] END learning_rate=0.1, max_depth=5, n_estimators=25;, score=0.809 total time=   0.3s\n",
      "[CV 1/5] END learning_rate=0.1, max_depth=5, n_estimators=50;, score=0.803 total time=   0.7s\n",
      "[CV 2/5] END learning_rate=0.1, max_depth=5, n_estimators=50;, score=0.810 total time=   0.6s\n",
      "[CV 3/5] END learning_rate=0.1, max_depth=5, n_estimators=50;, score=0.806 total time=   0.6s\n",
      "[CV 4/5] END learning_rate=0.1, max_depth=5, n_estimators=50;, score=0.803 total time=   0.6s\n",
      "[CV 5/5] END learning_rate=0.1, max_depth=5, n_estimators=50;, score=0.812 total time=   0.7s\n",
      "[CV 1/5] END learning_rate=0.1, max_depth=6, n_estimators=15;, score=0.793 total time=   0.2s\n",
      "[CV 2/5] END learning_rate=0.1, max_depth=6, n_estimators=15;, score=0.801 total time=   0.2s\n",
      "[CV 3/5] END learning_rate=0.1, max_depth=6, n_estimators=15;, score=0.799 total time=   0.2s\n",
      "[CV 4/5] END learning_rate=0.1, max_depth=6, n_estimators=15;, score=0.794 total time=   0.2s\n",
      "[CV 5/5] END learning_rate=0.1, max_depth=6, n_estimators=15;, score=0.812 total time=   0.2s\n",
      "[CV 1/5] END learning_rate=0.1, max_depth=6, n_estimators=25;, score=0.795 total time=   0.4s\n",
      "[CV 2/5] END learning_rate=0.1, max_depth=6, n_estimators=25;, score=0.805 total time=   0.4s\n",
      "[CV 3/5] END learning_rate=0.1, max_depth=6, n_estimators=25;, score=0.802 total time=   0.4s\n",
      "[CV 4/5] END learning_rate=0.1, max_depth=6, n_estimators=25;, score=0.797 total time=   0.4s\n",
      "[CV 5/5] END learning_rate=0.1, max_depth=6, n_estimators=25;, score=0.808 total time=   0.4s\n",
      "[CV 1/5] END learning_rate=0.1, max_depth=6, n_estimators=50;, score=0.802 total time=   0.8s\n",
      "[CV 2/5] END learning_rate=0.1, max_depth=6, n_estimators=50;, score=0.812 total time=   0.8s\n",
      "[CV 3/5] END learning_rate=0.1, max_depth=6, n_estimators=50;, score=0.807 total time=   0.8s\n",
      "[CV 4/5] END learning_rate=0.1, max_depth=6, n_estimators=50;, score=0.799 total time=   0.8s\n",
      "[CV 5/5] END learning_rate=0.1, max_depth=6, n_estimators=50;, score=0.810 total time=   0.8s\n",
      "[CV 1/5] END learning_rate=0.15, max_depth=4, n_estimators=15;, score=0.794 total time=   0.2s\n",
      "[CV 2/5] END learning_rate=0.15, max_depth=4, n_estimators=15;, score=0.804 total time=   0.2s\n",
      "[CV 3/5] END learning_rate=0.15, max_depth=4, n_estimators=15;, score=0.796 total time=   0.2s\n",
      "[CV 4/5] END learning_rate=0.15, max_depth=4, n_estimators=15;, score=0.797 total time=   0.2s\n",
      "[CV 5/5] END learning_rate=0.15, max_depth=4, n_estimators=15;, score=0.807 total time=   0.2s\n",
      "[CV 1/5] END learning_rate=0.15, max_depth=4, n_estimators=25;, score=0.794 total time=   0.3s\n",
      "[CV 2/5] END learning_rate=0.15, max_depth=4, n_estimators=25;, score=0.813 total time=   0.3s\n",
      "[CV 3/5] END learning_rate=0.15, max_depth=4, n_estimators=25;, score=0.797 total time=   0.3s\n",
      "[CV 4/5] END learning_rate=0.15, max_depth=4, n_estimators=25;, score=0.804 total time=   0.3s\n",
      "[CV 5/5] END learning_rate=0.15, max_depth=4, n_estimators=25;, score=0.812 total time=   0.3s\n",
      "[CV 1/5] END learning_rate=0.15, max_depth=4, n_estimators=50;, score=0.800 total time=   0.5s\n",
      "[CV 2/5] END learning_rate=0.15, max_depth=4, n_estimators=50;, score=0.816 total time=   0.5s\n",
      "[CV 3/5] END learning_rate=0.15, max_depth=4, n_estimators=50;, score=0.802 total time=   0.5s\n",
      "[CV 4/5] END learning_rate=0.15, max_depth=4, n_estimators=50;, score=0.807 total time=   0.5s\n",
      "[CV 5/5] END learning_rate=0.15, max_depth=4, n_estimators=50;, score=0.816 total time=   0.5s\n",
      "[CV 1/5] END learning_rate=0.15, max_depth=5, n_estimators=15;, score=0.789 total time=   0.2s\n",
      "[CV 2/5] END learning_rate=0.15, max_depth=5, n_estimators=15;, score=0.802 total time=   0.2s\n",
      "[CV 3/5] END learning_rate=0.15, max_depth=5, n_estimators=15;, score=0.801 total time=   0.2s\n",
      "[CV 4/5] END learning_rate=0.15, max_depth=5, n_estimators=15;, score=0.797 total time=   0.2s\n",
      "[CV 5/5] END learning_rate=0.15, max_depth=5, n_estimators=15;, score=0.810 total time=   0.2s\n",
      "[CV 1/5] END learning_rate=0.15, max_depth=5, n_estimators=25;, score=0.792 total time=   0.3s\n",
      "[CV 2/5] END learning_rate=0.15, max_depth=5, n_estimators=25;, score=0.812 total time=   0.3s\n",
      "[CV 3/5] END learning_rate=0.15, max_depth=5, n_estimators=25;, score=0.806 total time=   0.3s\n",
      "[CV 4/5] END learning_rate=0.15, max_depth=5, n_estimators=25;, score=0.801 total time=   0.3s\n",
      "[CV 5/5] END learning_rate=0.15, max_depth=5, n_estimators=25;, score=0.812 total time=   0.3s\n",
      "[CV 1/5] END learning_rate=0.15, max_depth=5, n_estimators=50;, score=0.809 total time=   0.6s\n",
      "[CV 2/5] END learning_rate=0.15, max_depth=5, n_estimators=50;, score=0.816 total time=   0.6s\n",
      "[CV 3/5] END learning_rate=0.15, max_depth=5, n_estimators=50;, score=0.812 total time=   0.6s\n",
      "[CV 4/5] END learning_rate=0.15, max_depth=5, n_estimators=50;, score=0.802 total time=   0.6s\n",
      "[CV 5/5] END learning_rate=0.15, max_depth=5, n_estimators=50;, score=0.811 total time=   0.6s\n",
      "[CV 1/5] END learning_rate=0.15, max_depth=6, n_estimators=15;, score=0.795 total time=   0.2s\n",
      "[CV 2/5] END learning_rate=0.15, max_depth=6, n_estimators=15;, score=0.814 total time=   0.2s\n",
      "[CV 3/5] END learning_rate=0.15, max_depth=6, n_estimators=15;, score=0.794 total time=   0.2s\n",
      "[CV 4/5] END learning_rate=0.15, max_depth=6, n_estimators=15;, score=0.791 total time=   0.2s\n",
      "[CV 5/5] END learning_rate=0.15, max_depth=6, n_estimators=15;, score=0.804 total time=   0.2s\n",
      "[CV 1/5] END learning_rate=0.15, max_depth=6, n_estimators=25;, score=0.794 total time=   0.4s\n",
      "[CV 2/5] END learning_rate=0.15, max_depth=6, n_estimators=25;, score=0.810 total time=   0.4s\n",
      "[CV 3/5] END learning_rate=0.15, max_depth=6, n_estimators=25;, score=0.799 total time=   0.4s\n",
      "[CV 4/5] END learning_rate=0.15, max_depth=6, n_estimators=25;, score=0.796 total time=   0.4s\n",
      "[CV 5/5] END learning_rate=0.15, max_depth=6, n_estimators=25;, score=0.811 total time=   0.4s\n",
      "[CV 1/5] END learning_rate=0.15, max_depth=6, n_estimators=50;, score=0.806 total time=   0.8s\n",
      "[CV 2/5] END learning_rate=0.15, max_depth=6, n_estimators=50;, score=0.804 total time=   0.8s\n",
      "[CV 3/5] END learning_rate=0.15, max_depth=6, n_estimators=50;, score=0.804 total time=   0.8s\n",
      "[CV 4/5] END learning_rate=0.15, max_depth=6, n_estimators=50;, score=0.802 total time=   0.8s\n",
      "[CV 5/5] END learning_rate=0.15, max_depth=6, n_estimators=50;, score=0.814 total time=   0.8s\n"
     ]
    },
    {
     "data": {
      "text/plain": [
       "GridSearchCV(estimator=GradientBoostingClassifier(),\n",
       "             param_grid={'learning_rate': [0.05, 0.1, 0.15],\n",
       "                         'max_depth': [4, 5, 6], 'n_estimators': [15, 25, 50]},\n",
       "             scoring='accuracy', verbose=3)"
      ]
     },
     "execution_count": 302,
     "metadata": {},
     "output_type": "execute_result"
    }
   ],
   "source": [
    "gb_classifier = GradientBoostingClassifier()\n",
    "gs_gb_2 = GridSearchCV(gb_classifier, param_grid = param_grid_2, scoring = 'accuracy', verbose=3)\n",
    "\n",
    "gs_gb_2.fit(X_train, y_train)"
   ]
  },
  {
   "cell_type": "code",
   "execution_count": 303,
   "metadata": {},
   "outputs": [
    {
     "name": "stdout",
     "output_type": "stream",
     "text": [
      "0.8100374969614531\n",
      "{'learning_rate': 0.15, 'max_depth': 5, 'n_estimators': 50}\n"
     ]
    }
   ],
   "source": [
    "GridSearch_GB_ESTIMATOR_2 = gs_gb_2.best_estimator_\n",
    "\n",
    "print(gs_gb_2.best_score_)\n",
    "print(gs_gb_2.best_params_)"
   ]
  },
  {
   "cell_type": "code",
   "execution_count": 304,
   "metadata": {},
   "outputs": [
    {
     "data": {
      "image/png": "[encoded data removed]",
      "text/plain": [
       "<Figure size 432x288 with 1 Axes>"
      ]
     },
     "metadata": {
      "needs_background": "light"
     },
     "output_type": "display_data"
    },
    {
     "data": {
      "image/png": "[encoded data removed]",
      "text/plain": [
       "<Figure size 432x288 with 1 Axes>"
      ]
     },
     "metadata": {
      "needs_background": "light"
     },
     "output_type": "display_data"
    },
    {
     "data": {
      "image/png": "[encoded data removed]",
      "text/plain": [
       "<Figure size 432x288 with 1 Axes>"
      ]
     },
     "metadata": {
      "needs_background": "light"
     },
     "output_type": "display_data"
    }
   ],
   "source": [
    "# lets analyze the results:\n",
    "fits_df_2 = pd.DataFrame(gs_gb_2.cv_results_)\n",
    "fits_df_2 = fits_df_2.astype({\"param_learning_rate\": float, \"param_max_depth\": float, \"param_n_estimators\": float}, errors='raise')\n",
    "\n",
    "plt.plot(fits_df_2.groupby([\"param_max_depth\"]).mean()[[\"mean_test_score\"]])\n",
    "plt.title(\"param max_depth\")\n",
    "plt.show()\n",
    "\n",
    "plt.plot(fits_df_2.groupby([\"param_learning_rate\"]).mean()[[\"mean_test_score\"]])\n",
    "plt.title(\"param learning_rate\")\n",
    "plt.show()\n",
    "\n",
    "plt.plot(fits_df_2.groupby([\"param_n_estimators\"]).mean()[[\"mean_test_score\"]])\n",
    "plt.title(\"param n_estimators\")\n",
    "plt.show()"
   ]
  },
  {
   "cell_type": "markdown",
   "metadata": {},
   "source": [
    "From the sklearn documentation: \"Gradient boosting is fairly robust to over-fitting so a large number usually results in better performance\"\n",
    "\n",
    "Lets try one more time and see how much we can boost the performance with n_estimators:"
   ]
  },
  {
   "cell_type": "code",
   "execution_count": 305,
   "metadata": {},
   "outputs": [],
   "source": [
    "param_grid_3 = {\n",
    "    'max_depth': [5],\n",
    "    'learning_rate': [0.15, 0.20, 0.25],\n",
    "    'n_estimators': [50, 100, 200]\n",
    "}"
   ]
  },
  {
   "cell_type": "code",
   "execution_count": 306,
   "metadata": {},
   "outputs": [
    {
     "name": "stdout",
     "output_type": "stream",
     "text": [
      "Fitting 5 folds for each of 9 candidates, totalling 45 fits\n",
      "[CV 1/5] END learning_rate=0.15, max_depth=5, n_estimators=50;, score=0.809 total time=   0.7s\n",
      "[CV 2/5] END learning_rate=0.15, max_depth=5, n_estimators=50;, score=0.815 total time=   0.7s\n",
      "[CV 3/5] END learning_rate=0.15, max_depth=5, n_estimators=50;, score=0.812 total time=   0.7s\n",
      "[CV 4/5] END learning_rate=0.15, max_depth=5, n_estimators=50;, score=0.802 total time=   0.7s\n",
      "[CV 5/5] END learning_rate=0.15, max_depth=5, n_estimators=50;, score=0.812 total time=   0.7s\n",
      "[CV 1/5] END learning_rate=0.15, max_depth=5, n_estimators=100;, score=0.806 total time=   1.3s\n",
      "[CV 2/5] END learning_rate=0.15, max_depth=5, n_estimators=100;, score=0.815 total time=   1.3s\n",
      "[CV 3/5] END learning_rate=0.15, max_depth=5, n_estimators=100;, score=0.812 total time=   1.3s\n",
      "[CV 4/5] END learning_rate=0.15, max_depth=5, n_estimators=100;, score=0.804 total time=   1.3s\n",
      "[CV 5/5] END learning_rate=0.15, max_depth=5, n_estimators=100;, score=0.805 total time=   1.3s\n",
      "[CV 1/5] END learning_rate=0.15, max_depth=5, n_estimators=200;, score=0.797 total time=   2.7s\n",
      "[CV 2/5] END learning_rate=0.15, max_depth=5, n_estimators=200;, score=0.809 total time=   2.6s\n",
      "[CV 3/5] END learning_rate=0.15, max_depth=5, n_estimators=200;, score=0.807 total time=   2.6s\n",
      "[CV 4/5] END learning_rate=0.15, max_depth=5, n_estimators=200;, score=0.809 total time=   2.6s\n",
      "[CV 5/5] END learning_rate=0.15, max_depth=5, n_estimators=200;, score=0.803 total time=   2.6s\n",
      "[CV 1/5] END learning_rate=0.2, max_depth=5, n_estimators=50;, score=0.814 total time=   0.7s\n",
      "[CV 2/5] END learning_rate=0.2, max_depth=5, n_estimators=50;, score=0.809 total time=   0.6s\n",
      "[CV 3/5] END learning_rate=0.2, max_depth=5, n_estimators=50;, score=0.812 total time=   0.6s\n",
      "[CV 4/5] END learning_rate=0.2, max_depth=5, n_estimators=50;, score=0.803 total time=   0.7s\n",
      "[CV 5/5] END learning_rate=0.2, max_depth=5, n_estimators=50;, score=0.810 total time=   0.7s\n",
      "[CV 1/5] END learning_rate=0.2, max_depth=5, n_estimators=100;, score=0.799 total time=   1.3s\n",
      "[CV 2/5] END learning_rate=0.2, max_depth=5, n_estimators=100;, score=0.807 total time=   1.3s\n",
      "[CV 3/5] END learning_rate=0.2, max_depth=5, n_estimators=100;, score=0.811 total time=   1.3s\n",
      "[CV 4/5] END learning_rate=0.2, max_depth=5, n_estimators=100;, score=0.799 total time=   1.3s\n",
      "[CV 5/5] END learning_rate=0.2, max_depth=5, n_estimators=100;, score=0.807 total time=   1.3s\n",
      "[CV 1/5] END learning_rate=0.2, max_depth=5, n_estimators=200;, score=0.797 total time=   2.6s\n",
      "[CV 2/5] END learning_rate=0.2, max_depth=5, n_estimators=200;, score=0.807 total time=   2.6s\n",
      "[CV 3/5] END learning_rate=0.2, max_depth=5, n_estimators=200;, score=0.806 total time=   2.6s\n",
      "[CV 4/5] END learning_rate=0.2, max_depth=5, n_estimators=200;, score=0.807 total time=   2.6s\n",
      "[CV 5/5] END learning_rate=0.2, max_depth=5, n_estimators=200;, score=0.801 total time=   2.6s\n",
      "[CV 1/5] END learning_rate=0.25, max_depth=5, n_estimators=50;, score=0.798 total time=   0.7s\n",
      "[CV 2/5] END learning_rate=0.25, max_depth=5, n_estimators=50;, score=0.820 total time=   0.7s\n",
      "[CV 3/5] END learning_rate=0.25, max_depth=5, n_estimators=50;, score=0.797 total time=   0.7s\n",
      "[CV 4/5] END learning_rate=0.25, max_depth=5, n_estimators=50;, score=0.804 total time=   0.7s\n",
      "[CV 5/5] END learning_rate=0.25, max_depth=5, n_estimators=50;, score=0.801 total time=   0.7s\n",
      "[CV 1/5] END learning_rate=0.25, max_depth=5, n_estimators=100;, score=0.798 total time=   1.3s\n",
      "[CV 2/5] END learning_rate=0.25, max_depth=5, n_estimators=100;, score=0.810 total time=   1.3s\n",
      "[CV 3/5] END learning_rate=0.25, max_depth=5, n_estimators=100;, score=0.801 total time=   1.3s\n",
      "[CV 4/5] END learning_rate=0.25, max_depth=5, n_estimators=100;, score=0.807 total time=   1.3s\n",
      "[CV 5/5] END learning_rate=0.25, max_depth=5, n_estimators=100;, score=0.805 total time=   1.3s\n",
      "[CV 1/5] END learning_rate=0.25, max_depth=5, n_estimators=200;, score=0.805 total time=   2.6s\n",
      "[CV 2/5] END learning_rate=0.25, max_depth=5, n_estimators=200;, score=0.819 total time=   2.7s\n",
      "[CV 3/5] END learning_rate=0.25, max_depth=5, n_estimators=200;, score=0.793 total time=   2.7s\n",
      "[CV 4/5] END learning_rate=0.25, max_depth=5, n_estimators=200;, score=0.804 total time=   2.6s\n",
      "[CV 5/5] END learning_rate=0.25, max_depth=5, n_estimators=200;, score=0.802 total time=   2.6s\n"
     ]
    },
    {
     "data": {
      "text/plain": [
       "GridSearchCV(estimator=GradientBoostingClassifier(),\n",
       "             param_grid={'learning_rate': [0.15, 0.2, 0.25], 'max_depth': [5],\n",
       "                         'n_estimators': [50, 100, 200]},\n",
       "             scoring='accuracy', verbose=3)"
      ]
     },
     "execution_count": 306,
     "metadata": {},
     "output_type": "execute_result"
    }
   ],
   "source": [
    "gb_classifier = GradientBoostingClassifier()\n",
    "gs_gb_3 = GridSearchCV(gb_classifier, param_grid = param_grid_3, scoring = 'accuracy', verbose=3)\n",
    "\n",
    "gs_gb_3.fit(X_train, y_train)"
   ]
  },
  {
   "cell_type": "code",
   "execution_count": 307,
   "metadata": {},
   "outputs": [
    {
     "name": "stdout",
     "output_type": "stream",
     "text": [
      "0.810181485293433\n",
      "{'learning_rate': 0.15, 'max_depth': 5, 'n_estimators': 50}\n"
     ]
    }
   ],
   "source": [
    "GridSearch_GB_ESTIMATOR_3 = gs_gb_3.best_estimator_\n",
    "\n",
    "print(gs_gb_3.best_score_)\n",
    "print(gs_gb_3.best_params_)"
   ]
  },
  {
   "cell_type": "code",
   "execution_count": 310,
   "metadata": {},
   "outputs": [
    {
     "data": {
      "image/png": "[encoded data removed]",
      "text/plain": [
       "<Figure size 432x288 with 1 Axes>"
      ]
     },
     "metadata": {
      "needs_background": "light"
     },
     "output_type": "display_data"
    },
    {
     "data": {
      "image/png": "[encoded data removed]",
      "text/plain": [
       "<Figure size 432x288 with 1 Axes>"
      ]
     },
     "metadata": {
      "needs_background": "light"
     },
     "output_type": "display_data"
    }
   ],
   "source": [
    "# lets analyze the results:\n",
    "fits_df_3 = pd.DataFrame(gs_gb_3.cv_results_)\n",
    "fits_df_3 = fits_df_3.astype({\"param_learning_rate\": float, \"param_max_depth\": float, \"param_n_estimators\": float}, errors='raise')\n",
    "\n",
    "plt.plot(fits_df_3.groupby([\"param_learning_rate\"]).mean()[[\"mean_test_score\"]])\n",
    "plt.title(\"param learning_rate\")\n",
    "plt.show()\n",
    "\n",
    "plt.plot(fits_df_3.groupby([\"param_n_estimators\"]).mean()[[\"mean_test_score\"]])\n",
    "plt.title(\"param n_estimators\")\n",
    "plt.show()"
   ]
  },
  {
   "cell_type": "markdown",
   "metadata": {},
   "source": [
    "No improvement this time. Best parameters:"
   ]
  },
  {
   "cell_type": "code",
   "execution_count": 311,
   "metadata": {},
   "outputs": [
    {
     "name": "stdout",
     "output_type": "stream",
     "text": [
      "0.810181485293433\n",
      "{'learning_rate': 0.15, 'max_depth': 5, 'n_estimators': 50}\n"
     ]
    }
   ],
   "source": [
    "print(gs_gb_3.best_score_)\n",
    "print(gs_gb_3.best_params_)"
   ]
  },
  {
   "cell_type": "markdown",
   "metadata": {},
   "source": [
    "# First submission"
   ]
  },
  {
   "cell_type": "code",
   "execution_count": 316,
   "metadata": {},
   "outputs": [],
   "source": [
    "test_data_ids = pd.read_csv(\"./data/test.csv\")[\"PassengerId\"] # oben noch ändern ..."
   ]
  },
  {
   "cell_type": "code",
   "execution_count": 321,
   "metadata": {},
   "outputs": [],
   "source": [
    "submission1_preds = GridSearch_GB_ESTIMATOR_3.predict(X_test)"
   ]
  },
  {
   "cell_type": "code",
   "execution_count": 333,
   "metadata": {},
   "outputs": [
    {
     "data": {
      "text/html": [
       "<div>\n",
       "<style scoped>\n",
       "    .dataframe tbody tr th:only-of-type {\n",
       "        vertical-align: middle;\n",
       "    }\n",
       "\n",
       "    .dataframe tbody tr th {\n",
       "        vertical-align: top;\n",
       "    }\n",
       "\n",
       "    .dataframe thead th {\n",
       "        text-align: right;\n",
       "    }\n",
       "</style>\n",
       "<table border=\"1\" class=\"dataframe\">\n",
       "  <thead>\n",
       "    <tr style=\"text-align: right;\">\n",
       "      <th></th>\n",
       "      <th>PassengerId</th>\n",
       "      <th>Transported</th>\n",
       "    </tr>\n",
       "  </thead>\n",
       "  <tbody>\n",
       "    <tr>\n",
       "      <th>0</th>\n",
       "      <td>0013_01</td>\n",
       "      <td>True</td>\n",
       "    </tr>\n",
       "    <tr>\n",
       "      <th>1</th>\n",
       "      <td>0018_01</td>\n",
       "      <td>False</td>\n",
       "    </tr>\n",
       "    <tr>\n",
       "      <th>2</th>\n",
       "      <td>0019_01</td>\n",
       "      <td>True</td>\n",
       "    </tr>\n",
       "    <tr>\n",
       "      <th>3</th>\n",
       "      <td>0021_01</td>\n",
       "      <td>True</td>\n",
       "    </tr>\n",
       "    <tr>\n",
       "      <th>4</th>\n",
       "      <td>0023_01</td>\n",
       "      <td>True</td>\n",
       "    </tr>\n",
       "  </tbody>\n",
       "</table>\n",
       "</div>"
      ],
      "text/plain": [
       "  PassengerId  Transported\n",
       "0     0013_01         True\n",
       "1     0018_01        False\n",
       "2     0019_01         True\n",
       "3     0021_01         True\n",
       "4     0023_01         True"
      ]
     },
     "execution_count": 333,
     "metadata": {},
     "output_type": "execute_result"
    }
   ],
   "source": [
    "submission1 = pd.DataFrame({'PassengerId': test_data_ids, 'Transported': submission1_preds})\n",
    "submission1[\"Transported\"] = submission1[\"Transported\"].astype(bool)\n",
    "submission1.head()"
   ]
  },
  {
   "cell_type": "code",
   "execution_count": 335,
   "metadata": {},
   "outputs": [],
   "source": [
    "submission1.to_csv(\"submission1.csv\", index=False)"
   ]
  }
 ],
 "metadata": {
  "kernelspec": {
   "display_name": "Python 3.7.4 ('base')",
   "language": "python",
   "name": "python3"
  },
  "language_info": {
   "codemirror_mode": {
    "name": "ipython",
    "version": 3
   },
   "file_extension": ".py",
   "mimetype": "text/x-python",
   "name": "python",
   "nbconvert_exporter": "python",
   "pygments_lexer": "ipython3",
   "version": "3.7.4"
  },
  "orig_nbformat": 4,
  "vscode": {
   "interpreter": {
    "hash": "40d3a090f54c6569ab1632332b64b2c03c39dcf918b08424e98f38b5ae0af88f"
   }
  }
 },
 "nbformat": 4,
 "nbformat_minor": 2
}
